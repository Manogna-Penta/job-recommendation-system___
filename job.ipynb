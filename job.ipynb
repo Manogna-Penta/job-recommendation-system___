{
 "cells": [
  {
   "cell_type": "code",
   "execution_count": 1,
   "metadata": {},
   "outputs": [],
   "source": [
    "import pandas as pd\n",
    "import spacy"
   ]
  },
  {
   "cell_type": "code",
   "execution_count": 2,
   "metadata": {},
   "outputs": [],
   "source": [
    "data=pd.read_csv('updated_jobs_with_companies.csv')"
   ]
  },
  {
   "cell_type": "code",
   "execution_count": 3,
   "metadata": {},
   "outputs": [
    {
     "data": {
      "text/html": [
       "<div>\n",
       "<style scoped>\n",
       "    .dataframe tbody tr th:only-of-type {\n",
       "        vertical-align: middle;\n",
       "    }\n",
       "\n",
       "    .dataframe tbody tr th {\n",
       "        vertical-align: top;\n",
       "    }\n",
       "\n",
       "    .dataframe thead th {\n",
       "        text-align: right;\n",
       "    }\n",
       "</style>\n",
       "<table border=\"1\" class=\"dataframe\">\n",
       "  <thead>\n",
       "    <tr style=\"text-align: right;\">\n",
       "      <th></th>\n",
       "      <th>Unnamed: 0</th>\n",
       "      <th>Job Salary</th>\n",
       "      <th>Job Experience Required</th>\n",
       "      <th>Key Skills</th>\n",
       "      <th>Role Category</th>\n",
       "      <th>Functional Area</th>\n",
       "      <th>Industry</th>\n",
       "      <th>Job Title</th>\n",
       "      <th>Company</th>\n",
       "    </tr>\n",
       "  </thead>\n",
       "  <tbody>\n",
       "    <tr>\n",
       "      <th>0</th>\n",
       "      <td>0</td>\n",
       "      <td>Not Disclosed by Recruiter</td>\n",
       "      <td>5 - 10 yrs</td>\n",
       "      <td>Media Planning| Digital Media</td>\n",
       "      <td>Advertising</td>\n",
       "      <td>Marketing , Advertising , MR , PR , Media Plan...</td>\n",
       "      <td>Advertising, PR, MR, Event Management</td>\n",
       "      <td>Media Planning Executive/Manager</td>\n",
       "      <td>Zerodha</td>\n",
       "    </tr>\n",
       "    <tr>\n",
       "      <th>1</th>\n",
       "      <td>1</td>\n",
       "      <td>Not Disclosed by Recruiter</td>\n",
       "      <td>2 - 5 yrs</td>\n",
       "      <td>pre sales| closing| software knowledge| clien...</td>\n",
       "      <td>Retail Sales</td>\n",
       "      <td>Sales , Retail , Business Development</td>\n",
       "      <td>IT-Software, Software Services</td>\n",
       "      <td>Sales Executive/Officer</td>\n",
       "      <td>Nykaa</td>\n",
       "    </tr>\n",
       "    <tr>\n",
       "      <th>2</th>\n",
       "      <td>2</td>\n",
       "      <td>Not Disclosed by Recruiter</td>\n",
       "      <td>0 - 1 yrs</td>\n",
       "      <td>Computer science| Fabrication| Quality check|...</td>\n",
       "      <td>R&amp;D</td>\n",
       "      <td>Engineering Design , R&amp;D</td>\n",
       "      <td>Recruitment, Staffing</td>\n",
       "      <td>R&amp;D Executive</td>\n",
       "      <td>Nykaa</td>\n",
       "    </tr>\n",
       "    <tr>\n",
       "      <th>3</th>\n",
       "      <td>3</td>\n",
       "      <td>2,00,000 - 4,00,000 PA.</td>\n",
       "      <td>0 - 5 yrs</td>\n",
       "      <td>Technical Support</td>\n",
       "      <td>Admin/Maintenance/Security/Datawarehousing</td>\n",
       "      <td>IT Software - Application Programming , Mainte...</td>\n",
       "      <td>IT-Software, Software Services</td>\n",
       "      <td>Technical Support Engineer</td>\n",
       "      <td>Wipro</td>\n",
       "    </tr>\n",
       "    <tr>\n",
       "      <th>4</th>\n",
       "      <td>4</td>\n",
       "      <td>Not Disclosed by Recruiter</td>\n",
       "      <td>2 - 5 yrs</td>\n",
       "      <td>manual testing| test engineering| test cases|...</td>\n",
       "      <td>Programming &amp; Design</td>\n",
       "      <td>IT Software - QA &amp; Testing</td>\n",
       "      <td>IT-Software, Software Services</td>\n",
       "      <td>Testing Engineer</td>\n",
       "      <td>Razorpay</td>\n",
       "    </tr>\n",
       "  </tbody>\n",
       "</table>\n",
       "</div>"
      ],
      "text/plain": [
       "   Unnamed: 0                    Job Salary Job Experience Required   \n",
       "0           0   Not Disclosed by Recruiter               5 - 10 yrs  \\\n",
       "1           1   Not Disclosed by Recruiter                2 - 5 yrs   \n",
       "2           2   Not Disclosed by Recruiter                0 - 1 yrs   \n",
       "3           3       2,00,000 - 4,00,000 PA.               0 - 5 yrs   \n",
       "4           4   Not Disclosed by Recruiter                2 - 5 yrs   \n",
       "\n",
       "                                          Key Skills   \n",
       "0                      Media Planning| Digital Media  \\\n",
       "1   pre sales| closing| software knowledge| clien...   \n",
       "2   Computer science| Fabrication| Quality check|...   \n",
       "3                                  Technical Support   \n",
       "4   manual testing| test engineering| test cases|...   \n",
       "\n",
       "                                Role Category   \n",
       "0                                 Advertising  \\\n",
       "1                                Retail Sales   \n",
       "2                                         R&D   \n",
       "3  Admin/Maintenance/Security/Datawarehousing   \n",
       "4                        Programming & Design   \n",
       "\n",
       "                                     Functional Area   \n",
       "0  Marketing , Advertising , MR , PR , Media Plan...  \\\n",
       "1              Sales , Retail , Business Development   \n",
       "2                           Engineering Design , R&D   \n",
       "3  IT Software - Application Programming , Mainte...   \n",
       "4                         IT Software - QA & Testing   \n",
       "\n",
       "                                Industry                         Job Title   \n",
       "0  Advertising, PR, MR, Event Management  Media Planning Executive/Manager  \\\n",
       "1         IT-Software, Software Services           Sales Executive/Officer   \n",
       "2                  Recruitment, Staffing                     R&D Executive   \n",
       "3         IT-Software, Software Services        Technical Support Engineer   \n",
       "4         IT-Software, Software Services                  Testing Engineer   \n",
       "\n",
       "    Company  \n",
       "0   Zerodha  \n",
       "1     Nykaa  \n",
       "2     Nykaa  \n",
       "3     Wipro  \n",
       "4  Razorpay  "
      ]
     },
     "execution_count": 3,
     "metadata": {},
     "output_type": "execute_result"
    }
   ],
   "source": [
    "data.head()"
   ]
  },
  {
   "cell_type": "code",
   "execution_count": 4,
   "metadata": {},
   "outputs": [
    {
     "name": "stdout",
     "output_type": "stream",
     "text": [
      "<class 'pandas.core.frame.DataFrame'>\n",
      "RangeIndex: 27010 entries, 0 to 27009\n",
      "Data columns (total 9 columns):\n",
      " #   Column                   Non-Null Count  Dtype \n",
      "---  ------                   --------------  ----- \n",
      " 0   Unnamed: 0               27010 non-null  int64 \n",
      " 1   Job Salary               27010 non-null  object\n",
      " 2   Job Experience Required  27010 non-null  object\n",
      " 3   Key Skills               27010 non-null  object\n",
      " 4   Role Category            27010 non-null  object\n",
      " 5   Functional Area          27010 non-null  object\n",
      " 6   Industry                 27010 non-null  object\n",
      " 7   Job Title                27010 non-null  object\n",
      " 8   Company                  27010 non-null  object\n",
      "dtypes: int64(1), object(8)\n",
      "memory usage: 1.9+ MB\n"
     ]
    }
   ],
   "source": [
    "data.info()"
   ]
  },
  {
   "cell_type": "code",
   "execution_count": 5,
   "metadata": {},
   "outputs": [
    {
     "data": {
      "text/plain": [
       "array(['Zerodha', 'Nykaa', 'Wipro', 'Razorpay', 'Ola', 'Swiggy',\n",
       "       'Flipkart', 'Urban Company', 'TCS', 'Cred', 'Zomato', 'Delhivery',\n",
       "       'CureFit', 'Dunzo', 'Meesho', 'Infosys', 'Paytm', 'Amazon',\n",
       "       'PhonePe', \"Byju's\"], dtype=object)"
      ]
     },
     "execution_count": 5,
     "metadata": {},
     "output_type": "execute_result"
    }
   ],
   "source": [
    "data['Company'].unique()"
   ]
  },
  {
   "cell_type": "code",
   "execution_count": 6,
   "metadata": {},
   "outputs": [
    {
     "data": {
      "text/plain": [
       "Company\n",
       "Infosys          2417\n",
       "Zomato           2233\n",
       "Meesho           2216\n",
       "Wipro            2134\n",
       "TCS              1993\n",
       "Swiggy           1950\n",
       "Amazon           1827\n",
       "Razorpay         1670\n",
       "Ola              1666\n",
       "Nykaa            1509\n",
       "Delhivery        1372\n",
       "Dunzo            1265\n",
       "Cred             1103\n",
       "Zerodha           976\n",
       "Byju's            893\n",
       "CureFit           676\n",
       "Flipkart          521\n",
       "PhonePe           389\n",
       "Paytm             198\n",
       "Urban Company       2\n",
       "Name: count, dtype: int64"
      ]
     },
     "execution_count": 6,
     "metadata": {},
     "output_type": "execute_result"
    }
   ],
   "source": [
    "data['Company'].value_counts()"
   ]
  },
  {
   "cell_type": "markdown",
   "metadata": {},
   "source": [
    "REMOVING UN RELEVENT COLUMNS\n"
   ]
  },
  {
   "cell_type": "code",
   "execution_count": 7,
   "metadata": {},
   "outputs": [],
   "source": [
    "data = data.drop('Unnamed: 0', axis=1)"
   ]
  },
  {
   "cell_type": "markdown",
   "metadata": {},
   "source": [
    "PREPROCESSING"
   ]
  },
  {
   "cell_type": "code",
   "execution_count": 8,
   "metadata": {},
   "outputs": [
    {
     "name": "stdout",
     "output_type": "stream",
     "text": [
      "Requirement already satisfied: spacy in c:\\users\\manogna\\appdata\\local\\programs\\python\\python311\\lib\\site-packages (3.7.2)Note: you may need to restart the kernel to use updated packages.\n",
      "\n",
      "Requirement already satisfied: spacy-legacy<3.1.0,>=3.0.11 in c:\\users\\manogna\\appdata\\local\\programs\\python\\python311\\lib\\site-packages (from spacy) (3.0.12)\n",
      "Requirement already satisfied: spacy-loggers<2.0.0,>=1.0.0 in c:\\users\\manogna\\appdata\\local\\programs\\python\\python311\\lib\\site-packages (from spacy) (1.0.5)\n",
      "Requirement already satisfied: murmurhash<1.1.0,>=0.28.0 in c:\\users\\manogna\\appdata\\local\\programs\\python\\python311\\lib\\site-packages (from spacy) (1.0.10)\n",
      "Requirement already satisfied: cymem<2.1.0,>=2.0.2 in c:\\users\\manogna\\appdata\\local\\programs\\python\\python311\\lib\\site-packages (from spacy) (2.0.8)\n",
      "Requirement already satisfied: preshed<3.1.0,>=3.0.2 in c:\\users\\manogna\\appdata\\local\\programs\\python\\python311\\lib\\site-packages (from spacy) (3.0.9)\n",
      "Requirement already satisfied: thinc<8.3.0,>=8.1.8 in c:\\users\\manogna\\appdata\\local\\programs\\python\\python311\\lib\\site-packages (from spacy) (8.2.2)\n",
      "Requirement already satisfied: wasabi<1.2.0,>=0.9.1 in c:\\users\\manogna\\appdata\\local\\programs\\python\\python311\\lib\\site-packages (from spacy) (1.1.2)\n",
      "Requirement already satisfied: srsly<3.0.0,>=2.4.3 in c:\\users\\manogna\\appdata\\local\\programs\\python\\python311\\lib\\site-packages (from spacy) (2.4.8)\n",
      "Requirement already satisfied: catalogue<2.1.0,>=2.0.6 in c:\\users\\manogna\\appdata\\local\\programs\\python\\python311\\lib\\site-packages (from spacy) (2.0.10)\n",
      "Requirement already satisfied: weasel<0.4.0,>=0.1.0 in c:\\users\\manogna\\appdata\\local\\programs\\python\\python311\\lib\\site-packages (from spacy) (0.3.4)\n",
      "Requirement already satisfied: typer<0.10.0,>=0.3.0 in c:\\users\\manogna\\appdata\\local\\programs\\python\\python311\\lib\\site-packages (from spacy) (0.9.0)\n",
      "Requirement already satisfied: smart-open<7.0.0,>=5.2.1 in c:\\users\\manogna\\appdata\\local\\programs\\python\\python311\\lib\\site-packages (from spacy) (6.4.0)\n",
      "Requirement already satisfied: tqdm<5.0.0,>=4.38.0 in c:\\users\\manogna\\appdata\\local\\programs\\python\\python311\\lib\\site-packages (from spacy) (4.66.1)\n",
      "Requirement already satisfied: requests<3.0.0,>=2.13.0 in c:\\users\\manogna\\appdata\\local\\programs\\python\\python311\\lib\\site-packages (from spacy) (2.32.3)\n",
      "Requirement already satisfied: pydantic!=1.8,!=1.8.1,<3.0.0,>=1.7.4 in c:\\users\\manogna\\appdata\\local\\programs\\python\\python311\\lib\\site-packages (from spacy) (2.5.3)\n",
      "Requirement already satisfied: jinja2 in c:\\users\\manogna\\appdata\\local\\programs\\python\\python311\\lib\\site-packages (from spacy) (3.1.4)\n",
      "Requirement already satisfied: setuptools in c:\\users\\manogna\\appdata\\local\\programs\\python\\python311\\lib\\site-packages (from spacy) (65.5.0)\n",
      "Requirement already satisfied: packaging>=20.0 in c:\\users\\manogna\\appdata\\roaming\\python\\python311\\site-packages (from spacy) (23.2)\n",
      "Requirement already satisfied: langcodes<4.0.0,>=3.2.0 in c:\\users\\manogna\\appdata\\local\\programs\\python\\python311\\lib\\site-packages (from spacy) (3.3.0)\n",
      "Requirement already satisfied: numpy>=1.19.0 in c:\\users\\manogna\\appdata\\local\\programs\\python\\python311\\lib\\site-packages (from spacy) (1.24.3)\n",
      "Requirement already satisfied: annotated-types>=0.4.0 in c:\\users\\manogna\\appdata\\local\\programs\\python\\python311\\lib\\site-packages (from pydantic!=1.8,!=1.8.1,<3.0.0,>=1.7.4->spacy) (0.6.0)\n",
      "Requirement already satisfied: pydantic-core==2.14.6 in c:\\users\\manogna\\appdata\\local\\programs\\python\\python311\\lib\\site-packages (from pydantic!=1.8,!=1.8.1,<3.0.0,>=1.7.4->spacy) (2.14.6)\n",
      "Requirement already satisfied: typing-extensions>=4.6.1 in c:\\users\\manogna\\appdata\\local\\programs\\python\\python311\\lib\\site-packages (from pydantic!=1.8,!=1.8.1,<3.0.0,>=1.7.4->spacy) (4.8.0)\n",
      "Requirement already satisfied: charset-normalizer<4,>=2 in c:\\users\\manogna\\appdata\\local\\programs\\python\\python311\\lib\\site-packages (from requests<3.0.0,>=2.13.0->spacy) (3.1.0)\n",
      "Requirement already satisfied: idna<4,>=2.5 in c:\\users\\manogna\\appdata\\local\\programs\\python\\python311\\lib\\site-packages (from requests<3.0.0,>=2.13.0->spacy) (3.4)\n",
      "Requirement already satisfied: urllib3<3,>=1.21.1 in c:\\users\\manogna\\appdata\\local\\programs\\python\\python311\\lib\\site-packages (from requests<3.0.0,>=2.13.0->spacy) (1.26.15)\n",
      "Requirement already satisfied: certifi>=2017.4.17 in c:\\users\\manogna\\appdata\\local\\programs\\python\\python311\\lib\\site-packages (from requests<3.0.0,>=2.13.0->spacy) (2022.12.7)\n",
      "Requirement already satisfied: blis<0.8.0,>=0.7.8 in c:\\users\\manogna\\appdata\\local\\programs\\python\\python311\\lib\\site-packages (from thinc<8.3.0,>=8.1.8->spacy) (0.7.11)\n",
      "Requirement already satisfied: confection<1.0.0,>=0.0.1 in c:\\users\\manogna\\appdata\\local\\programs\\python\\python311\\lib\\site-packages (from thinc<8.3.0,>=8.1.8->spacy) (0.1.4)\n",
      "Requirement already satisfied: colorama in c:\\users\\manogna\\appdata\\roaming\\python\\python311\\site-packages (from tqdm<5.0.0,>=4.38.0->spacy) (0.4.6)\n",
      "Requirement already satisfied: click<9.0.0,>=7.1.1 in c:\\users\\manogna\\appdata\\local\\programs\\python\\python311\\lib\\site-packages (from typer<0.10.0,>=0.3.0->spacy) (7.1.2)\n",
      "Requirement already satisfied: cloudpathlib<0.17.0,>=0.7.0 in c:\\users\\manogna\\appdata\\local\\programs\\python\\python311\\lib\\site-packages (from weasel<0.4.0,>=0.1.0->spacy) (0.16.0)\n",
      "Requirement already satisfied: MarkupSafe>=2.0 in c:\\users\\manogna\\appdata\\local\\programs\\python\\python311\\lib\\site-packages (from jinja2->spacy) (2.1.5)\n"
     ]
    }
   ],
   "source": [
    "pip install spacy"
   ]
  },
  {
   "cell_type": "code",
   "execution_count": 9,
   "metadata": {},
   "outputs": [
    {
     "name": "stderr",
     "output_type": "stream",
     "text": [
      "Python was not found; run without arguments to install from the Microsoft Store, or disable this shortcut from Settings > Manage App Execution Aliases.\n"
     ]
    }
   ],
   "source": [
    "!python3 -m spacy download en_core_web_sm\n"
   ]
  },
  {
   "cell_type": "code",
   "execution_count": 10,
   "metadata": {},
   "outputs": [],
   "source": [
    "# nlp=spacy.load('en_core_web_sm')"
   ]
  },
  {
   "cell_type": "code",
   "execution_count": 9,
   "metadata": {},
   "outputs": [
    {
     "name": "stdout",
     "output_type": "stream",
     "text": [
      "\u001b[38;5;2m✔ Download and installation successful\u001b[0m\n",
      "You can now load the package via spacy.load('en_core_web_sm')\n"
     ]
    }
   ],
   "source": [
    "import spacy\n",
    "spacy.cli.download(\"en_core_web_sm\")\n",
    "nlp = spacy.load(\"en_core_web_sm\")\n"
   ]
  },
  {
   "cell_type": "code",
   "execution_count": 9,
   "metadata": {},
   "outputs": [
    {
     "data": {
      "text/plain": [
       "Index(['Job Salary', 'Job Experience Required', 'Key Skills', 'Role Category',\n",
       "       'Functional Area', 'Industry', 'Job Title', 'Company'],\n",
       "      dtype='object')"
      ]
     },
     "execution_count": 9,
     "metadata": {},
     "output_type": "execute_result"
    }
   ],
   "source": [
    "data.columns"
   ]
  },
  {
   "cell_type": "code",
   "execution_count": 10,
   "metadata": {},
   "outputs": [
    {
     "data": {
      "text/plain": [
       "0"
      ]
     },
     "execution_count": 10,
     "metadata": {},
     "output_type": "execute_result"
    }
   ],
   "source": [
    "data['Key Skills'].isnull().sum()"
   ]
  },
  {
   "cell_type": "markdown",
   "metadata": {},
   "source": [
    "Normalizing text data"
   ]
  },
  {
   "cell_type": "code",
   "execution_count": 11,
   "metadata": {},
   "outputs": [],
   "source": [
    "data['Role Category']=data['Role Category'].str.lower()"
   ]
  },
  {
   "cell_type": "code",
   "execution_count": 12,
   "metadata": {},
   "outputs": [],
   "source": [
    "data['Key Skills']=data['Key Skills'].str.lower()"
   ]
  },
  {
   "cell_type": "code",
   "execution_count": 13,
   "metadata": {},
   "outputs": [],
   "source": [
    "data['Job Title']=data['Job Title'].str.lower()"
   ]
  },
  {
   "cell_type": "code",
   "execution_count": 14,
   "metadata": {},
   "outputs": [],
   "source": [
    "data['Industry']=data['Industry'].str.lower()"
   ]
  },
  {
   "cell_type": "markdown",
   "metadata": {},
   "source": [
    "TOKENIZATION"
   ]
  },
  {
   "cell_type": "code",
   "execution_count": 15,
   "metadata": {},
   "outputs": [],
   "source": [
    "# list1=['my name is manu','my friend name is anu','my brother name is phanu']"
   ]
  },
  {
   "cell_type": "code",
   "execution_count": 16,
   "metadata": {},
   "outputs": [],
   "source": [
    "# for i in list1:\n",
    "#     token=nlp(i)\n",
    "#     for j in token:\n",
    "#         print(j.text)"
   ]
  },
  {
   "cell_type": "code",
   "execution_count": 17,
   "metadata": {},
   "outputs": [],
   "source": [
    "def token_lematization(col):\n",
    "    list_token=[]\n",
    "\n",
    "    col_word=nlp(col)\n",
    "    for i in col_word:\n",
    "        words=i.lemma_\n",
    "        list_token.append(words)\n",
    "    \n",
    "    return list_token\n",
    "        "
   ]
  },
  {
   "cell_type": "code",
   "execution_count": 18,
   "metadata": {},
   "outputs": [],
   "source": [
    "data['Key Skills']=data['Key Skills'].apply(token_lematization)"
   ]
  },
  {
   "cell_type": "code",
   "execution_count": 19,
   "metadata": {},
   "outputs": [],
   "source": [
    "data['Key Skills'] = data['Key Skills'].apply(lambda x: ' '.join(x))"
   ]
  },
  {
   "cell_type": "code",
   "execution_count": 20,
   "metadata": {},
   "outputs": [
    {
     "data": {
      "text/plain": [
       "0                      medium planning| digital medium\n",
       "1      pre sales| closing| software knowledge| clie...\n",
       "2      computer science| fabrication| quality check...\n",
       "3                                    technical support\n",
       "4      manual testing| test engineering| test cases...\n",
       "5      adobe experience manager| digital| digital m...\n",
       "6      channel partners| real estate| negotiation| ...\n",
       "7      tfs| azure| git| vsts| docker| dynatrace| sp...\n",
       "8                                                  bde\n",
       "Name: Key Skills, dtype: object"
      ]
     },
     "execution_count": 20,
     "metadata": {},
     "output_type": "execute_result"
    }
   ],
   "source": [
    "data['Key Skills'][0:9]"
   ]
  },
  {
   "cell_type": "code",
   "execution_count": 21,
   "metadata": {},
   "outputs": [],
   "source": [
    "data['Job Title']=data['Job Title'].apply(token_lematization)"
   ]
  },
  {
   "cell_type": "code",
   "execution_count": 22,
   "metadata": {},
   "outputs": [],
   "source": [
    "data['Job Title'] = data['Job Title'].apply(lambda x: ' '.join(x))\n"
   ]
  },
  {
   "cell_type": "code",
   "execution_count": 23,
   "metadata": {},
   "outputs": [
    {
     "data": {
      "text/plain": [
       "1      sale executive / officer\n",
       "2                 r&d executive\n",
       "3    technical support engineer\n",
       "4                 test engineer\n",
       "Name: Job Title, dtype: object"
      ]
     },
     "execution_count": 23,
     "metadata": {},
     "output_type": "execute_result"
    }
   ],
   "source": [
    "data['Job Title'][1:5]"
   ]
  },
  {
   "cell_type": "code",
   "execution_count": 24,
   "metadata": {},
   "outputs": [],
   "source": [
    "data['Role Category']=data['Role Category'].apply(token_lematization)"
   ]
  },
  {
   "cell_type": "code",
   "execution_count": 25,
   "metadata": {},
   "outputs": [],
   "source": [
    "data['Role Category']=data['Role Category'].apply(lambda x: ' '.join(x))"
   ]
  },
  {
   "cell_type": "code",
   "execution_count": 26,
   "metadata": {},
   "outputs": [],
   "source": [
    "data['Industry']=data['Industry'].apply(token_lematization)"
   ]
  },
  {
   "cell_type": "code",
   "execution_count": 27,
   "metadata": {},
   "outputs": [],
   "source": [
    "data['Industry']=data['Industry'].apply(lambda x: ' '.join(x))"
   ]
  },
  {
   "cell_type": "code",
   "execution_count": 28,
   "metadata": {},
   "outputs": [],
   "source": [
    "data['combined_text'] = data['Key Skills'] + '  ' + data['Job Title'] + '  ' + data['Role Category'] + '  ' + data['Industry']\n"
   ]
  },
  {
   "cell_type": "markdown",
   "metadata": {},
   "source": [
    "VECTORIZATION"
   ]
  },
  {
   "cell_type": "code",
   "execution_count": 29,
   "metadata": {},
   "outputs": [],
   "source": [
    "from sklearn.feature_extraction.text import TfidfVectorizer\n",
    "\n",
    "tfidf = TfidfVectorizer(max_features=1000)\n",
    "\n",
    "\n",
    "tfidf_matrix = tfidf.fit_transform(data['combined_text'])\n"
   ]
  },
  {
   "cell_type": "markdown",
   "metadata": {},
   "source": [
    "COSINE SIMILARITY"
   ]
  },
  {
   "cell_type": "code",
   "execution_count": 30,
   "metadata": {},
   "outputs": [],
   "source": [
    "from sklearn.metrics.pairwise import cosine_similarity\n",
    "\n",
    "cosine_sim_matrix = cosine_similarity(tfidf_matrix)"
   ]
  },
  {
   "cell_type": "markdown",
   "metadata": {},
   "source": [
    "RECOMMENDATION BASED ON USER INPUT"
   ]
  },
  {
   "cell_type": "code",
   "execution_count": 45,
   "metadata": {},
   "outputs": [],
   "source": [
    "def get_recommendations(job_title, data, cosine_sim, top_n=5):\n",
    "    if job_title not in data['Job Title'].values:\n",
    "        return f\"Job title '{job_title}' not found in the dataset.\"\n",
    "    #GETTING user input matching index\n",
    "    idx = data[data['Job Title'] == job_title].index[0]\n",
    "    #getting similarity scores\n",
    "    sim_scores = list(enumerate(cosine_sim_matrix[idx]))\n",
    "    #sort jobs based on similarity\n",
    "    sim_scores = sorted(sim_scores, key=lambda x: x[1], reverse=True)\n",
    "    #top 5 similar jobs\n",
    "    sim_scores = sim_scores[1:top_n+1]\n",
    "    #job indicies\n",
    "    job_indices = [i[0] for i in sim_scores]\n",
    "    \n",
    "    return data.iloc[job_indices][['Job Title', 'Company', 'Job Salary', 'Key Skills']]\n"
   ]
  },
  {
   "cell_type": "code",
   "execution_count": 52,
   "metadata": {},
   "outputs": [],
   "source": [
    "job_title_input = \"software developer\"\n",
    "recommendations = get_recommendations(job_title_input, data, cosine_sim_matrix, top_n=5)\n"
   ]
  },
  {
   "cell_type": "code",
   "execution_count": 53,
   "metadata": {},
   "outputs": [
    {
     "name": "stdout",
     "output_type": "stream",
     "text": [
      "['medium planning executive / manager' 'sale executive / officer'\n",
      " 'r&d executive' 'technical support engineer' 'test engineer'\n",
      " 'system analyst' 'technical architect'\n",
      " 'associate / senior associate -(technical )'\n",
      " 'corporate planning / strategy manager' 'webmaster'\n",
      " 'process flow analyst' 'software developer'\n",
      " 'social medium marketing manager' 'senior design engineer'\n",
      " 'account manager' 'sale officer' 'sale / business development manager'\n",
      " 'quality assurance / quality control executive' 'graphic / web designer'\n",
      " 'area sale manager' 'system administrator'\n",
      " 'project manager - it / software' 'project lead' 'logistics executive'\n",
      " 'account executive / accountant'\n",
      " 'associate / senior associate -(nontechnical )'\n",
      " 'technical support manager' 'regional manager'\n",
      " 'head / vp/ gm/ national manager after sale'\n",
      " 'team leader -(nontechnical )' 'content developer' 'dba' 'hr executive'\n",
      " 'head / vp / gm / national manager -sale'\n",
      " 'centre head / branch head / club manager' 'project architect'\n",
      " 'front office / guest relation executive / manager' 'design engineer'\n",
      " 'technical writer' 'engineering manager' 'training manager'\n",
      " 'graphic designer' 'client servicing executive' 'recruitment executive'\n",
      " 'sale coordinator' 'solution architect / enterprise architect'\n",
      " 'workman / foreman / technician' 'design engineer / manager'\n",
      " 'technical lead / project lead' 'analytic manager' 'trainee'\n",
      " 'search engine optimisation /seo specialist' 'financial analyst'\n",
      " 'ppc /pay per click specialist' 'medical representative'\n",
      " 'project manager - production / manufacturing / maintenance'\n",
      " 'public relation & medium relation manager' 'fresher' 'other'\n",
      " 'lecturer / professor' 'documentation / medical writing'\n",
      " 'it / networking - manager' 'sale trainer' 'trainer'\n",
      " 'head / vp / gm - technology(it)/cto' 'business analyst'\n",
      " 'restaurant manager' 'web designer' 'head / vp / gm - operation'\n",
      " 'research scientist' 'merchandiser' 'team lead / technical lead'\n",
      " 'executive/ sr executive - administration'\n",
      " 'daycareteacher / incharge / attendant' 'sale / bd manager'\n",
      " 'client servicing / key account manager' 'logistic manager'\n",
      " 'head / vp / gm - finance / audit' 'outside consultant'\n",
      " 'purchase executive' 'purchase / vendor development manager'\n",
      " 'telecalle / telemarketing executive' 'cashier' 'production manager'\n",
      " 'visualiser' 'creative director' 'architect' 'voice & accent trainer'\n",
      " 'finance / budgeting manager' 'outside technical consultant'\n",
      " 'csr manager' 'surgeon'\n",
      " 'suguna group be found in the year 1984 with the inception of suguna food in poultry sector by first generation entrepreneur . suguna be a usd 1.3 billion ( inr 9,000 cr ) group and leader in indian protein food / animal farming industry . with an employee footprint of more than 8500 , the group be in to poultry , dairy , process protein food , animal nutrition , healthcare & biological . group company be suguna food , suguna dairy , globion , aminovit srilanka , suguna bangladesh and kenya . suguna food be the large poultry enterprise in india and it rank among the top 10 worldwide . the fully integrate operation cover broiler and layer farming , hatchery , feed mill , processing plant , vaccine and export . suguna markets live broiler chicken , value add egg , ready - to - eat and ready - to - cook chicken product . with the intent to provide consumer with fresh , clean and hygienic pack chicken , suguna have set up a chain of modern retail outlet in the name of ã¢â‚¬ëœdaily fresshã¢â‚¬â„¢. suguna foods pioneer contract farming in poultry industry , and now have presence in 21 state in india . suguna as a brand be know for its quality product which have be well accept by the consumer . suguna group always believe in energise rural india and provide nutritional security to india and be proud to associate with the mission of improve livelihood of 38,000 farmer'\n",
      " 'proof reader' 'nurse' 'direct marketing executive'\n",
      " 'head / vp / gm - cfo / financial controller' 'branch manager'\n",
      " 'service / maintenance engineer'\n",
      " 'head / vp / gm - production / manufacturing / maintenance'\n",
      " 'counter sale' 'physics teacher'\n",
      " 'quality assurance / quality control manager'\n",
      " 'pharmacist / chemist / bio chemist' 'technical / process trainer'\n",
      " 'customer support engineer / technician' 'subject matter expert'\n",
      " 'branch manager / regional manager' 'product / brand manager'\n",
      " 'functional outside consultant' 'safety officer / manager'\n",
      " 'equipment installation , calibration , validation and maintenance . maintain the master list for preventive maintenance and calibration of glp and nonglp instrument prepare the iq , oq , pq documentation for new equipment during installation attend and rectify the centrifuge , co2 incubator , hplc , centrifuge , cellcounter , hplc , rotavapor , incubator , water purification system , fplc breakdown issue attend and rectify the hplc breakdown issue coordinate with vendor , project team , validation team and end - user for installation and qualification ( iq , oq and pq ) of all the biologics department equipment . zero down time maintenance of all laboratory department equipment . maintain stock of equipment accessory , spare and consumable as per requirement . to assist , attend and execute preventive maintenance / breakdown maintenance for various biology and analytical equipment . attend breakdown maintenance call and perform routine preventive maintenance for instrument like centrifuge , cellcounter , hplc , rotavapor , incubator , water purification system , heating stirrer , flash chromatography system and various bio - analytical instrument in jubilant biosys . work with scientist to ensure smooth running of the equi salary : not disclose by recruiter industry : pharma / biotech / clinical research functional area : other employment type : full time , permanent'\n",
      " 'data analyst' 'tour management manager / senior manager'\n",
      " 'maintenance engineer'\n",
      " 'zs pioneer in sale force and marketing analytic apply optimization technique to sale force and marketing investment problem . we have grow significantly and be now recognize global leader in sale and marketing consulting . a key enabler of our service be leverage datum in deliver client solution . the datum available about customer across healthcare and multiple industry be get rich and the problem that our customer be try to answer continue to evolve . in our endeavor to stay ahead of curve in provide solution to these evolve complex business problem , zs have set up a data scientist track which have follow major focus area : research the evolve dataset and new information source to understand the possibility apply advanced analytical technique and algorithm to improve current as well as develop cut edge offering / solution deliver client impact by collaboratively implement and broad base these solution provide think leadership by develop the zs point of view in the industry the manager position be the precursor to the associate principal and principal position , and therefore part of the zs leadership ladder . every manager lead one or more space , i.e. business unit focus either on a specific client , or a specific expertise area . therefore zs data science manager be responsible for strong analytical expertise , knowledge and experience of various machine learning algorithm , tool & big datum technology , leverage this knowledge for innovation , think leadership , stakeholder relationship management , effectively coach and responsible for people growth and define - run - refine their space operating model , guide closely by principal . manager leverage their experience to take responsibility for provide analytical solution across project , deliver quality work for client and lead client and zs - leader relationship from begin of their tenure . provide expertise in architecte and implement analytical solution for project manage project and assist in manage stakeholder relationship direct multiple project simultaneously , hone analytical and project management skill motivate , coach and serve as a role model for space team member provide think leadership and innovation within project and across practice area partner with onshore colleague to develop new business with exist and new client develop and implement specific framework for strategy and program contribute to zss capability building and knowledge creation coach , mentor , and conduct training program play an active role in india office growth relate initiative ( e.g. recruiting , training , etc . ) . require candidate profile manager have 8 - 12 year work experience in industry through consult work or within an industry leader ( a combination of experience be prefer ) be/ b.tech / bs ( stat ) from tier-1 institute would be require . phd in computer science ( or statistic ) / m.tech / ms from a premier institute would be highly preferred substantial experience in machine learn knowledge of big data/ advanced analytic concept and algorithm text mining , social listening , recommender system , predictive modeling , etc . knowledge of program java / python / r exposure to tool / platform hadoop eco system and db system agile project planning and project management skill excellent communication skill in addition , we seek individual with the follow desire to make a business impact for our client leadership experience personal initiative and strong work ethic self - motivation and detail orientation organization & planning skill communication skill salary : not disclose by recruiter industry : strategy / management consulting firm functional area : other'\n",
      " 'head / vp / gm - recruitment' 'head / vp / gm - regulatory affair'\n",
      " 'factory head' 'head / vp / gm - hr'\n",
      " 'housekeeping executive / assistant .' 'hr manager' 'intern'\n",
      " 'marketing manager' 'pre sale consultant' 'equity manager'\n",
      " 'telesale / telemarketing executive / officer' 'draughtsman'\n",
      " 'erp consultant' 'client relationship manager' 'hod'\n",
      " 'network administrator' 'recruitment manager' 'dean / director'\n",
      " 'manager / sr manager - facility management' 'release manager'\n",
      " 'tour mngmt executive'\n",
      " 'team leader - quality assurance / quality control'\n",
      " 'head / vp / gm - r&d' 'transport / distribution manager' 'analyst'\n",
      " 'microbiologist' 'broker / trader'\n",
      " 'one of the most comprehensive portfolio of offering on the market sopra steria , a european leader in digital transformation , provide one of the most comprehensive portfolio of offering on the market , span consulting , system integration , industry - specific solution , infrastructure management and business process service . it provide end - to - end solution to address the core business need of large company and organisation , help they remain competitive and grow . combine add value with innovative high - performance service , sopra steria excel in guide its client through their transformation project to help they make the most of digital technology . with more than 44,000 employee in more than 20 country , sopra steria generate revenue of 4.1billion in 2018 .'\n",
      " 'documentation / shipping - executive / manager' 'medical officer'\n",
      " 'key account manager' 'assistant manager / manager-(nontechnical )'\n",
      " 'retail store manager' 'charter accountant'\n",
      " 'institutional sale / business development manager' 'operation manager'\n",
      " 'interior designer' 'event / promotion executive' 'staff function'\n",
      " 'management information systems(mis)-manag'\n",
      " 'sport / physical education teacher'\n",
      " 'marketing research executive / manager' 'system security'\n",
      " 'company secretary' 'analytical chemistry associate / scientist'\n",
      " 'assistant professor' 'product designer' 'curriculum designer'\n",
      " 'cabin crew' 'chef de partis' 'sale / business development - manager'\n",
      " 'product development manager' 'mechanical engineer - telecom'\n",
      " 'administration service / medical facility' 'user experience designer'\n",
      " 'assistant / associate marketing manager'\n",
      " 'structural engineer - building'\n",
      " 'design , plan , organize and execute the job assign and area allot for effective referral sale of hospital service , facility and modern technology to doctor , consultant and clinic . develop and stabilize good and meaningful relationship with consultant , doctor , hospital and clinic . forward the report weekly to the manager and get the feedback . act as a communication channel between doctor and hospital salary : not disclose by recruiter industry : medical / healthcare / hospital functional area : other employment type : permanent job , full time'\n",
      " 'store keeper / warehouse assistant' 'business development manager'\n",
      " 'animation / graphic artist' 'product manager' 'general practitioner'\n",
      " 'network planning engineer' 'secretary / pa'\n",
      " 'search engine optimisation /seo lead' 'database architect / designer'\n",
      " 'apparel / garment designer' 'post sale consultant'\n",
      " 'electrical engineer - commercial'\n",
      " 'lab technician / medical technician / lab staff' 'program manager'\n",
      " 'regional sale manager' 'travel agent' 'hire for logistic company'\n",
      " 'construction - residential' 'soft skill trainer' 'audit manager'\n",
      " 'clinical researcher' 'area / territory manager' 'sale promotion manager'\n",
      " 'finance executive' 'taxation(indirect ) manager' 'warehouse manager'\n",
      " 'practice head / practice manager' 'anaesthetist'\n",
      " 'cactus communication be a lead provider of communication solution , include academic and scientific editing , medical communication , publication support service , english - language workshop , transcription , and translation . our company mission be to enable growth through effective communication . cactus offer service to two key client segment worldwide : academia ( researcher , scholarly journal and publisher , university , and academic society ) and pharmaceutical , biotech and medical device company . we have our office in the us , uk , japan , india , south korea , singapore and china . our full - time in - house staff consist of over 700 people and represent a diverse group of people from india , china , japan , singapore , south korea , taiwan , the us , uk , germany , and brazil . we also work with over 2500 contractor from around the world . we have be rank # 1 in indiaã¢â‚¬â„¢s great mid - size workplace ã¢â‚¬ \" 2017 , a study conduct by great place to workã‚â ® institute india in association with mint , by ht media : http://bit.ly/2uijmuv . weã¢â‚¬â„¢ve been rank # 18 in 25 good small & medium workplace in asia ã¢â‚¬ \" 2018 , a study conduct by great place to workã‚â ® institute we be proud to finish in the 2018 top 100 company for remote job by flexjob ! this be the third year for cactus to finish in the top 20 .'\n",
      " 'credit officer' 'it / technical content developer'\n",
      " 'a client of drishti consultants pvt . ltd .'\n",
      " 'trade finance operation manager' 'class teacher / classroom coordinator'\n",
      " 'corporate communication executive'\n",
      " 'manager / sr manager - administration'\n",
      " 'domestic private banking - executive / manager'\n",
      " 'head / vp / gm - corporate planning / strategy' 'sous chef' 'commis'\n",
      " 'legal manager' 'deck cadet' 'physiotherapist'\n",
      " 'quality assurance & quality control - executive'\n",
      " 'credit / control executive' 'operation officer' 'financial accountant'\n",
      " 'hardware design engineer'\n",
      " 'interaction with the patient explain the procedure of dialysis and all its aspect . prepare the database and introduce to the respective consultant for the procedure . keep necessary equipment ready for start and termination procedure of dialysis . to maintain equipment before and after the procedure . disinfect the machine and reuse the dialyzer and the accessory . put indent and ip issue . send m.i.s . assist doctor in all procedure ( ij and femoral catheterisation ) take inventory regularly . keep a track of the accessory . know all preventive maintenance program , in accordance to sop to maintain all my equipment in proper condition . salary : inr 2,00,000 - 3,50,000 pa . industry : medical / healthcare / hospital functional area : other employment type : permanent job , full time'\n",
      " 'taxation(direct ) manager' 'lobby / duty manager' 'lab assistant'\n",
      " 'ppc /pay per click lead' 'team leader -(technical )'\n",
      " 'special education teacher'\n",
      " \"company profile cholamandalam ms general insurance cholamandalam ms general insurance company limit be a joint venture between the murugappa group and mitsui sumitomo insurance company limit , japan . chola ms offer a wide range of insurance product that include accident , engineering , health , liability , marine , motor , property , travel and rural insurance for individual and corporate . chola ms champion a brand philosophy call t3 , which stand for trust , transparency and technology . it have also be consistently recognise and award by the government of india , international entity and rating agency for its insurance service and delivery innovation . the company have 109 branch and over 9000 agent across the country . the company achieve a gross write premium ( gwp ) of rs . 31,333 million register a robust growth rate of about 28 % over the previous year . the company 's market share as at march 31 , 2017 be 2.76 % ( among general insurance companies).the growth be drive by new partnership secure during the year and strong growth achieve in proprietary channel . together with investment income , the company record its high ever operate profit . profit before tax increase from rs . 2,131 million to rs . 2,971 million for the year end march 31 , 2017 .\"\n",
      " 'counselor' 'construction - construction management'\n",
      " 'formulation scientist' 'bio - statistician'\n",
      " 'head / vp / gm - administration & facility' 'f&b manager'\n",
      " 'credit analyst - corporate banking' 'operation executive'\n",
      " 'senior outside consultant' 'music teacher' 'head / vp / gm - transition'\n",
      " 'construction - general building'\n",
      " 'bio / pharma informatic - associate / scientist'\n",
      " 'crm / customer service manager' 'customer service executive'\n",
      " 'material management executive / manager' 'business / edp analyst'\n",
      " 'teacher/ private tutor' 'electrical engineer - industrial'\n",
      " 'search engine marketing / sem specialist'\n",
      " 'clinical research associate / scientist' 'reservation executive'\n",
      " 'staff specialist/ manpower planning'\n",
      " 'crm / phone / internet banking executive' 'actuary manager'\n",
      " 'assistant manager / manager -(nontechnical )'\n",
      " 'head / vp / gm - taxation' 'radiologist' 'industrial engineer' 'seaman'\n",
      " 'trainer / faculty' 'collection manager' 'business alliance manager'\n",
      " 'direct marketing manager' 'head / vp / gm - account'\n",
      " 'pay roll / compensation manager' 'english teacher'\n",
      " 'front desk / cashier / billing' 'commercial manager'\n",
      " 'head / vp / gm - quality assurance & quality control'\n",
      " 'ea to chairman / president / vp' 'copywriter'\n",
      " 'civil engineer - highway / roadway' 'cost accountant'\n",
      " 'vp / principal / partner' 'customer service manager' 'staff nurse'\n",
      " 'civil engineer - municipal' 'head / vp / gm - scm / logistic'\n",
      " 'service delivery leader' 'wealth manager'\n",
      " 'analyze how our brand be position in the market and crystallize target consumer insight take brand ownership and provide the vision , mission , goal and strategy to match up to translate brand strategy into brand plan , brand positioning and go - to - market strategy lead creative development and create motivate stimulus to get target population to take action establish performance specification , cost and price parameter , market application and sale estimate measure and report performance of all marketing campaign , and assess against goal ( roi and kpis ) coach the team and get the good from everyone monitor market trend , research consumer market and competitor activity to identify opportunity and key issue oversee marketing and advertising activity to ensure consistency with product line strategy monitor product distribution and consumer reaction anticipate bottleneck brainstorm new and innovative growth strategy align the company around the brand direction , choice and tactic salary : inr 8,50,000 - 14,00,000 pa . industry : medical / healthcare / hospital functional area : other employment type : permanent job , full time'\n",
      " 'search engine optimisation /seo analyst' 'french teacher'\n",
      " 'head / vp / gm - project finance' 'industrial / labour relation manager'\n",
      " 'relationship executive' 'junior / primary / assistant teacher'\n",
      " 'host / hostess' 'journalist' 'affiliate marketing manager'\n",
      " 'exl ( nasdaq : exls ) be a lead business process solution company that help company drive business impact and adapt fast to the change global marketplace . exl provide operation management , embed analytic and technology platform to organization in the banking and financial service , healthcare , insurance , utility , transportation and logistic , and travel industry . with more than 21,000 people around the world , we work with our client as strategic partner to execute operation , identify opportunity to gain a competitive edge , and create new channel for growth and saving . headquarter in new york and operational since 1999 , exl be present in the u.s . , u.k . , singapore , romania , the philippine , india , germany , czech republic and bulgaria . for more information , visit www.exlservice.com .'\n",
      " 'head / vp / gm - relationship' 'pediatrician' 'steward'\n",
      " 'investor relationship - executive / manager' 'display marketing manager'\n",
      " 'event / promotion manager' 'instructional designer'\n",
      " 'credit / control manager'\n",
      " 'manager - market research / consumer insight / industry analysis'\n",
      " 'photographer' 'drug regulatory director' 'general manager'\n",
      " 'research associate' 'head / vp / gm - purchase / material management'\n",
      " 'head / vp / gm/ mgr - online / digital marketing' 'tv producer'\n",
      " 'corporate advisory manager' 'art director / senior art director'\n",
      " 'product development executive'\n",
      " \"job description : sell partner support - german amazon.com strive to be earth 's most customer - centric company where people can find and discover virtually anything they want to buy online . by give customer more of what they want - low price , vast selection , and convenience - amazon.com continue to grow and evolve as a world - class e - commerce platform . amazon 's evolution from web site to e - commerce partner to development platform be drive by the spirit of innovation that be part of the company 's dna . the world 's bright technology mind come to amazon.com to research and develop technology that improve the life of shopper and seller around the world . the sell partner support associate act as the primary interface between amazon and our german business partner . the sell partner support associate will be responsible for provide timely and accurate operational support to german merchant sell on the amazon platform . the successful candidate have an immediate , distinct effect on the experience of customer of amazon , make a strong record of customer focus a high standard for the role . a seller support associate be expect to address chronic system issue , provide process improvement , develop internal documentation , and contribute to a team environment , all while adhere to service level agreement for phone and/or email case . basic qualification complete bachelors degree or high language : german ( b2.2 certification or above ) ability to work in shift experience within a customer service environment prefer . desire to expand skill into new area . technical ( computer & internet ) savvy be require . business acuman in area of e - commerce and retail . experience with e - commerce , as a consumer it be an essential requirement ( payment , browse , shipping , return , etc ) commit seller advocate , drive process & tool improvement . enthusiasm and strong self - motivation . strong prioritization and time management skill , with a high degree of flexibility . embrace constant change with flexibility and good grace . demonstrate appropriate sense of urgency for contact response time in the face of variable workflow . demonstrate effective communication , composure , and professional attitude exemplary performance record , particularly with regard to quality & productivity desire skill - set include ms office application excel and internet explorer / mozilla firefox summary of responsibility demonstrate effective , clear and professional write and oral communication . provide prompt and efficient service to amazon seller and merchant include the appropriate escalation of seller issue . build platform and business knowledge to well serve seller maintain a positive and professional demeanor always portray the company in a positive light and effectively manage sensitive issue . demonstrate excellent time - management skill and the ability to work independently knowledge while use departmental resource , policy and procedure . contribute to a positive team environment and proactively aids team member with difficult contact as need . maintain acceptable performance metric such as quality , productivity , first contact resolution , and attendance . actively seek solution through logical reasoning and datum interpretation skill and identify trend to appropriate channel include improvement suggestion . liaise with other department such as customer service , merchant investigation , or payment team as require to resolve seller issue and que salary : inr 5,00,000 - 7,00,000 pa . industry : other functional area : other\"\n",
      " 'head / vp / gm - quality assurance / quality control'\n",
      " 'saisun outsourcing pvt ltd , recruitment | contract manpower | payroll outsourcing | campus hire | facility management service | statuary compliance'\n",
      " 'correspondent / assistant editor / associate editor'\n",
      " 'service / maintenance supervisor' 'service engineer' 'equity analyst'\n",
      " 'hindi teacher' 'head / vp / gm - legal'\n",
      " '* a us base $ 4.0 billion world leader in staff service to over 6000 customer globally . * world \\'s large \" technology \" staff company in the world today - it , telecom , infrastructure and engineering . * teksystem be a part of allegis group which be a $ 16.0 billion we base privately hold firm . one of the world \\'s large privately hold company ( source : forbe ) * the 6th large staffing company in the world and the 2nd large in the us . * one of the top vendor to 90 % of fortune 500 company . * every year we deploy over 80,000 employee across different part of the world . * operation in north america , europe and asia with over 300 office across location . * in india , teksystem currently have 1000 + technical consultant employ at various fortune 500 company across the country . * for the second consecutive year , teksystem be name to fortune magazine \\'s \" 100 good company to work for \" in 2014 . * please visit - www.teksystems.com ; www.allegisgroup.com , for more information .'\n",
      " 'head / vp / gm - client servicing' 'forex dealer'\n",
      " 'assistant manager / manager-(technical )' 'project manager - telecom'\n",
      " 'animation designer' 'debt analyst' 'head / vp / gm - marketing'\n",
      " 'derivative dealer'\n",
      " 'manager marketing - internal / external communication'\n",
      " 'bio - technical research associate / scientist'\n",
      " 'transition / migration manager'\n",
      " \"requirement qualification : candidate must possess at least a bachelor's / college degree in any field . preferably with science , technology or computer application background at least 4 to 8 year of work experience with it / security be require for this position should be knowledgeable in information technology / it security concept / information security concept a good understanding of various information system technology include : active directory , networking , lan / wan , firewall and enterprise security solution job summary : carry out all information security risk assessment carry out privacy risk and impact assessment for client operation and technology infrastructure conduct operation audit base on information security and privacy principle conduct review of contractual contract , privacy contract / exhibit / privacy agreement support compliance certification ( iso , pci dss ) and client audits handle information security incident , data breach investigation assist risk management functional leader in oversee compliance activity relate to information security drive information security training and awareness to ensure employee be aware of their responsibility experience with network security scanner , and other vulnerability analysis tool such as nessus , qualy . experience in generate system assessment report ability to implement the policy and procedure lay down by the it and infosec . salary : not disclose by recruiter industry : bpo / call centre / ite functional area : other employment type : full time , permanent\"\n",
      " 'ground staff' 'chief medical officer / head medical service'\n",
      " 'head / vp / gm - quality' 'business editor'\n",
      " 'banquet sale executive/ manager' 'asset manager'\n",
      " 'executive sous chef / chef de cuisine'\n",
      " 'cynosure corporate solution be a human capital service company . executive search | recruitment | staff service | training | hr align service .'\n",
      " 'head / vp / gm - analytic & bi' 'pathologist' 'rf engineer'\n",
      " 'head / vp / gm - underwriting' 'head / manager / gm - medium planning'\n",
      " 'school teacher' 'mechanical engineer - hvac' 'public relation executive'\n",
      " '2 or more year of professional working experience in 3d studio max , maya , adobe photoshop & zbrush/ 3dcoat / substance painter or any other similar 3d tool . require skill : should have good experience of work in unity3d or any other game engine . expertise in 2d/3d graphic production tool . knowledge of render engine . be able to rig , model , texture and animate with the direction of other artist , art director , designer and producer . ability to create and adapt to various game art style . ability to also work on low poly asset and make beautiful and memory - efficient texture and effect . ability to translate abstract concept into impressive on - screen visual . efficient and speedy work practice for quick turn - around time under tight deadline . excellent interpersonal , writing and communication skill . please provide a portfolio include example of your work with your application . desire skill : scripting and/or programming experience would be an add advantage . be able to work well as part of a team . have excellent organizing skill . be able to work with minimum supervision . experience on a few ship title , preferably on io and android . who you be ? you have a passion for visual design / game / ar . you enjoy craft an entire world from mere 2d sketch . you impart life to character and give they their distinctive personality . you lend new dimension and perspective to 2d art . you be an idea person . you be the creative spark that will help people understand their work environment well , learn without risk , introduce gamer the world over to our title . virtually create any world you can imagine . what you will do ? create and produce ar 3d artwork in accordance with the direction of other artist , art director , designer and producer . work on art asset integration in unity 3d . report status of deliverable to your team , art director , lead , producer and development director . work within a small , motivated team and communicate effectively . spearhead , mentor and help artist in the team to attain high quality art in the allotted production time . \\xa0  how we will help you grow ? you will be provide with constant learning opportunity . you will have the opportunity to become a ar / vr technical artist you can work with our vr / ar research team . you will be provide with all the tool , book , online course , in - house training require to learn and explore new avenue and direction . you will be a part of bi - weekly art challenge to interact with peer and hone your skill . salary : not disclose by recruiter industry : animation / game functional area : other employment type : permanent job , full time'\n",
      " 'snapseaarch ( formerly know as pharmahood consultant ) operate as an extended hr arm for its client , provide recruitment service to mnc and business conglomerate across india . the organization be found in 2003 for serve mainly the healthcare sector and have since grow the company in this decade \\'s time to serve 17 different industry vertical today . today snapseaarch be amongst the \" top 3 preferred recruitment service partner \" for its long - stand client . snapseaarch have be know in the executive search name through its process , people and passion to mark a difference in each and every assignment take up . all 3 ps at snapseaarch mark difference with their quality uncompromise for the entire process . snapseaarch be in the midst of another record set year to get cover in the consultant review magazine as the pioneer in the recruitment industry . we have be recognize as \" india \\'s 10 most promising recruitment consultants-2018 \" in the consultant review magazine march 2018 edition .'\n",
      " 'national head' 'treasury manager'\n",
      " 'sale / business development manager - broking'\n",
      " 'head / vp / gm - credit risk' 'textile designer'\n",
      " 'at teksystem , we be obsess with technology . its power to change everything . technology fuel our passion and commitment to help organization do what they set out to . when we engage , we bring fresh idea that help you galvanize your performance . refine your strategy . spark new energy . the future - and how we get there - depend on those who build , connect , create and transform our world . the most successful and innovative business be already do it , and we be skilled expert at bring in the team and support need to thrive .'\n",
      " 'construction - specialty' 'dermatologist' 'legal officer'\n",
      " 'hr business partner' 'waiter / waitress / sommeli'\n",
      " 'back office executive' 'computer teacher' 'regulatory affair manager'\n",
      " 'freelance journalist' 'underwriter'\n",
      " \"allegis group india be a wholly own subsidiary of allegis group , inc . in india , the company specifically focus on deal with technology product and provide high - end engineering design and analysis , it and ite service , vendor management , training and staffing service to fortune 500 clients.about allegis group : a us $ 6billion world leader in staff service to over 4000 customer globally world 's large technology staff company in the world today it , telecom , infrastructure and engineering brone of the world 's large privately hold company ( source : forbe ) the 6th large staffing company in the world and the 2nd large in the us one of the top vendor to 99 % of fortune 500 company employ over 100,000 employee across different part of the world operation in north america , europe and asia with over 300 office and now in india\"\n",
      " 'infosy be a lead provider of next generation consulting , technology and outsourcing solution . we be dedicate to help organization build tomorrow enterprise and advance the way the world work that be why forbe ranksus 19th among the top 100 most innovative company . our employee partner with client to transform thi business one conversation one idea one insight at a time . while we be at it some thing remain unchanged theunwavering ethic transparency and respect behind everything we do . we will always be a company power by intellect and drive by value . so if your passion be to build solution that really make a diffrence to enterprisesthe community and your world infosys be the right palce for you .'\n",
      " 'credit manager - corporate banking'\n",
      " 'designation \\xa0 - associate manager- p&s domain knowledge \\xa0 - trade finance domain expertise with respect to follow product : -letter of credit -letter of guarantee -import collection -export collection -bank guarantee -standby lc -open account trade service -bill of lade -bill of exchange job description \\xa0 - the broad responsibility include : -proactively look for creative way to position newgen solution by incorporate specific industry / domain expertise and business / functional knowledge . -worke closely with sale team to provide clarification and answer to customer query require deep product expertise on timely manner . -carrye out proof of concept to demonstrate how newgen solution could meet customer requirement and deliver value . -ensure compliance to system and process such as legal & commercial term , proposal , rfps , rfis , bom etc . -give demos of newgen product and solution and create proof of concept . -develope and maintain comprehensive knowledge of newgens product and similar competitive product to effectively compare / compete and position newgen . experience \\xa0 - 2 - 4 year skill require \\xa0 - you should be a b.e / b. tech . or mba from a reputed institute , with 2 to 4 year of experience as system analyst or solution consultant on trade finance domain . you must have : -understande of the software product market dynamic and software development process . -possess excellent relationship , communication and customer relationship management skill . -exhibit strong leadership quality through quick decision - making and change management & strong analytical ability . -good experience in ms - office and documentation skill . willingness to travel . location : \\xa0 mumbai \\xa0  salary : not disclose by recruiter industry : it - software / software service functional area : other employment type : permanent job , full time'\n",
      " 'chief engineer' 'collection officer' 'beauty manager / beautician'\n",
      " 'insurance analyst' 'project finance manager'\n",
      " 'assistant manager / manager -(technical )'\n",
      " 'medical superintendent / director' 'captain'\n",
      " 'a tele - caller job be basic service to attend call from employee and note their problem call the new joiner after 2 to 3 day of join for basic information inform the reporting manager . should know language telugu , kannada & hindi . salary : not disclose by recruiter industry : facility management functional area : other employment type : permanent job , full time'\n",
      " 'gynaeocologist' 'collection executive'\n",
      " '* teksystem be a part of allegis group -an $ 8.5 billion us base privately hold firm . one of the world \\'s large privately hold company ( source : forbe ) * one of the world \\'s large \" technology \" staff company today - it , telecom , infrastructure and engineering . * every year we deploy over 80,000 employee across different part of the world . * operation in north america , europe and asia with over 300 office * in india , we have more than 1000 + technical consultant employ at various fortune 500 company across bangalore , hyderabad , delhi , mumbai , pune & chennai . * teksystem be name to fortune magazine \\'s \" 100 good company to work for \" list for 2013 . * please visit - www.teksystems.com ; www.allegisgroup.com , for more information on we .'\n",
      " 'interaction designer' 'analytical chemistry manager' 'oncologist'\n",
      " 'unisys be a worldwide information technology company . we provide a portfolio of it service , software , and technology that solve critical problem for client . we specialize in help client secure their operation , increase the efficiency and utilization of their datum center , enhance support to their end user and constituent , and modernize their enterprise application . to provide these service and solution , we bring together offering and capability in outsourcing service , system integration and consulting service , infrastructure service , maintenance service , and high - end server technology . unisys india be establish in 2004 in bangalore . we have strengthen tremendously in term of headcount and infrastructure , as well as capability to become an integral part of the unisys global delivery organization . today , we have three state - of - the - art facility - two in bangalore and one in hyderabad . at unisys india you will see a representation from most function of unisys . be it product development for system & technology , application design and migration for global industry , service desk / enterprise compute / itil process / field operation back office for gois or extension of various unisys corporate function . we be here today because of our relentless effort towards timely , quality and cost efficient delivery , all mean to drive a high level of customer satisfaction at a compelling cost . a unique blend of mature process , high focus on tool and , above all a team of highly talented and motivated employee play a critical role in make this possible . we be poise to play an increasingly important role in unisys journey towards predictable and profitable growth . you could be a part of this change . imagine it . do . for more information , visit http://www.unisys.com'\n",
      " 'principal' 'investment / treasury manager'\n",
      " 'role and responsibility \\xa0  new business development achieve the sale target / kpis of the organization dso control responsible for collection and receivable inventory control rfq , quotation , negotiation in coordination with the kam team responsible to get the price increase from the customer responsible to achieve the desire gross margin new product introduction eliminate loss make product through vave ideas/ bench mark with open market product technical interface to project management and technical planning to get the optimize design and cost in line with the market expectation experience in handle japanese customer toyota , honda , suzuki candidate will be join in hosur for 3 month of training purpose & product knowledge , then will be transfer to pune . salary : not disclose by recruiter industry : automobile / auto anciliary / auto component functional area : other'\n",
      " 'role and responsibility \\xa0  position : senior research analyst job location : bangalore key objective develop solid understanding of business be assess in discussion with promoter and management analyse historical business and financial performance understand business and financial risk prepare financial projection for corporate understanding and prepare detailed note present a case to a rating committee liaison with external agency include issuer and investor technical skill & experience minimum three year experience of work on mid - sized corporatecredit analysis as the lead analyst smart communication and presentation skill knowledge and expertise : knowledge of credit rating process and report writing . management : ensure full compliance with lay down rule , process and procedure at all time . consistently demonstrate cost conscious behaviour . communication : display strong communication and interpersonal skill . quality service : optimal utilisation of time . leadership and initiative : ensure full compliance with lay down rule , process and procedure at all time . proactively identifie and escalate situation wherein issuer need to be manage to elicit full cooperation . salary : not disclose by recruiter industry : kpo / research / analytic functional area : other'\n",
      " 'opthamologist' 'proposal response manager' 'insurance advisor'\n",
      " 'civil engineer - land development' 'travel desk - coordinator'\n",
      " 'camera man / technician' 'stenographer / datum entry operator'\n",
      " 'we have an urgent opening for financial counselor / estimate : service line brief role & responsibility : take effort to convert potential opd patient to ipd . prepare accurate estimation regard surgery and other procedure and explain they to the patient . co - coordinate with doctor and patient . patient counseling regard billing , top up deposit , tpa activity . educate patient about payment option & financial assistance . maintain datum for financial reporting . co - ordination with consultant , nursing staff and ally service for various patient service . accurately perform registration process for new and exist customer . ensure accurate information be give to the patient and relative and satisfy their query . prepare & counseling estimate for surgical patient . co - ordinate with billing team for complete daily discharge in the desire tat . solve query and issue of patient in any service . update audit report . report and escalate issue and daily update occur to manager . re - counseling . follow - up with patient . implementation and promotion of new package . nabh training ensure proper implementation of rule by staff . training to the new employee . perk and benefit \\xa0  open / bet in industry salary : not disclose by recruiter industry : medical / healthcare / hospital functional area : other'\n",
      " 'environment engineer / officer' 'head / vp / gm - investment banking'\n",
      " 'cardiologist' 'marketing research field supervisor'\n",
      " 'role and responsibility \\xa0  global quote to order operation - part of the global finance operation team , process migration request , validate document , product mapping and calculation on support and license value as per procedure and guideline set up for the process . interact with internal customer from different lob to process order . liaison with sale , contract and vad / partner to ensure that all information be available to ensure accurate booking of order and revenue in accordance with establish procedure and guideline . provide administrative support for the accounting function include the area of general ledger , account payable , account receivable , fixed asset , and inter - company transaction . interact with other lob and business function as relevant on the process . job role & career level senior analyst , job description : primary skill : transaction handling : should be able to process transaction as per define standard operating procedure should be able to carry out necessary research in oracle system like customer standard , instal base , quote application , service contract , etc . should be able to work with stake holder and peer group on various process relate question / issue should have the ability to serve as a primary point of contact for process relate question / escalation / issue should be able to contribute to other activity like uat , transaction audits , reporting & analysis , documentation and process training communication : should be able to articulate clear and concise message should be able to demonstrate understanding of internal and/or external customer need and how to meet they should be able to effectively communicate with various stakeholder like sale team , development team , senior management , etc . across geography adapt to change : show willingness to adjust to change work environment should be flexible to work in any shift to meet global business requirement should have the ability to multi - task in a fast pace environment in meet timeline despite change need problem solve & analytical ability : should be able to recognize problem , gather appropriate datum , diagnose root cause of issue and provide effective workaround , as require should be able to analyze the datum and draw inference from both qualitative and quantitative datum should be able to bring forward process improvement idea result orientation : should persevere to deliver against objective and take personal accountability for own performance should demonstrate attention to detail in all aspect of work should act with a sense of urgency and confidence to deliver quality work in a timely manner other skill : should have the ability to learn the nuance of business & process in a short period of time should be a team player with good interpersonal skill preferred qualification / skill graduation in science or commerce 3 - 5 year of experience in kpo / bto environment should have good skill in ms office application like excel , word and power point hand on experience in fusion application will be an add advantage salary : not disclose by recruiter industry : other functional area : other'\n",
      " 'construction - heavy' 'mathematics teacher'\n",
      " 'role and responsibility \\xa0  effectively handle process and compliance of the customer service department . identify area of the possible discrepancy in the claim use intimation datum . close co - ordination with the surveyor to convey the discrepancy . specification of loss prevention recommendation active support of internal and external training and knowledge management initiative develop and implement claim technical policy and procedure such as quality audit , cost minimization technique . work collaboratively with other business unit to achieve division and business unit goal salary : inr 3,00,000 - 4,75,000 pa . industry : insurance functional area : other'\n",
      " 'unit manager' 'sale / business development manager - forex'\n",
      " 'ceo / md / director' 'rfi / rfp manager' 'sub editor / reporter'\n",
      " 'librarian' 'nutritionist' 'civil engineer - telecom'\n",
      " 'civil engineer - water / wastewater'\n",
      " 'head / vp / gm - compensation & benefit' 'spanish teacher'\n",
      " 'sale executive / investment advisor' 'edp analyst'\n",
      " 'at teksystem , we be obsess with technology . its power to change everything . technology fuel our passion and commitment to help organisation do what they set out to . when we engage , we bring fresh idea that help you galvanise your performance . refine your strategy . spark new energy . the future - and how we get there - depend on those who build , connect , create and transform our world . the most successful and innovative business be already do it , and we be skilled expert at bring the talent they need to thrive .'\n",
      " 'head / vp / gm - production'\n",
      " 'role and responsibility \\xa0  assess student need for train align training with the organization strategic goal develop training program that make the good use of available resource oversee the creation of online learn module and other educational material for student teach training method and skill to student evaluate the effectiveness of training program and student walk in detail : no.6 - 3 - 636 , perika bhavan circle , raj bhavan road , khairatabad , hyderabad 500004 . interview date & time . 01 - 07 - 2019 to 03 - 07 - 2019 . time : 9 am to 4 pm interested candidate share your resume to hr2@chennaisamirta.com salary : not disclose by recruiter industry : education / teaching / training functional area : teaching , education , training , counsel'\n",
      " 'employee relation executive' 'datawarehouse technician'\n",
      " 'medical transcriptionist' 'technology manager'\n",
      " 'head / vp / gm - documentation / shipping' 'payroll executive'\n",
      " 'head / vp / gm / national manager - sale'\n",
      " 'international marketing manager' 'feature editor'\n",
      " 'head / vp / gm - tour management'\n",
      " 'asset operation / documentation - executive / manager'\n",
      " 'mechanical engineer - plumbing / fire protection'\n",
      " 'hardware installation technician' 'academic coordinator'\n",
      " 'fitness trainer / gym instructor' 'clearing officer'\n",
      " 'head / vp / gm - sale' 'employee relation manager'\n",
      " 'assistant director / director' 'fund manager - equity'\n",
      " 'electrical engineer - utility' 'electrical engineer - telecom' 'masseur'\n",
      " 'bid manager' 'nursery teacher'\n",
      " 'executive/ sr executive - facility management'\n",
      " 'exigent group limit be a global legal service outsourcing organization , provide advice and deliver a range of legal service , contract management solution and business analytical tool aim at reduce risk , improve compliance and driving process and cost efficiency for client in the us , canada , uk , australia and south africa .'\n",
      " 'ford' 'account director'\n",
      " 'allegis group india be a wholly own subsidiary of allegis group , inc . in india , the company specifically focus on deal with technology product and provide high - end engineering design and analysis , it and ite service , vendor management , training and staffing service to fortune 500'\n",
      " 'commercial artist'\n",
      " 'we have an excellent opportunity for .net developer with ciber work location : cibersite india pvt ltd , 6th floor , bwtc , mahadevpura , bangalore . landmark : next to emc , same campus . contact person : amrita location : bangalore experience level : 4 -6 year job type : permanent note : should be comfortable to work in ciber . look only for immediate to 15 day joiner only . must be comfortable for f2f interview . mandatory skill : \\xa0  asp.net with mvc framework . c # , asp.net , mvc 4 or 5 , sql server 2008/ 2012 , entity framework . job description : must have practical experience in c # , asp.net , mvc 4 or 5 , sql server 2008/ 2012 , entity framework , .net framework , ajax , java script , html5 , xml , xslt , ssrs , ssis , ssa must to have comprehensive knowledge of software development life cycle ( sdlc ) , requirement analysis , object orient programming ( oop ) , information system and software design and pattern must have ability to multi - task and stay organized in a dynamic work environment . problem solve skill to assess design alternative and perform tradeoff to determine design or functionality that good meet customer need . nice to have nice to have knowledge of parallel processing , distribute and grid computing , service - orient architecture ( soa ) and web service application integration and message control between system graphic skill and website design use photoshop , bootstrap , flash animation , 3d design , etc . mobile application development on io , android , or xamarin . please share the detail to aanandita@ciber.com with your update resume . full name- total exp.- rel . exp.- notice period- ctc- ectc- reason for job change- current location- salary : not disclose by recruiter industry : it - software / software service functional area : other employment type : permanent job , full time'\n",
      " 'technical lead -hardware design'\n",
      " 'anri solution hr services pvt ltd - recruitment consultancy'\n",
      " 'art teacher' 'trainee cadet' 'quality coach' 'hair stylist'\n",
      " 'banquet sale executive / manager'\n",
      " 'head / vp / gm - merger & acquisition' 'product executive'\n",
      " 'nephrologist' 'gsm engineer' 'rf system designer' 'service manager'\n",
      " 'chief of bureau / editor in chief'\n",
      " 'job description about line of business : gfic global finance information center be the line of business which be the captive division of oracle which take care of the entire order to cash function for oracle hardware and software product . there be many process with gfic oa ( order administration ) , pa ( project accounting ) , ar ( account receivables ) , ap ( account payable ) , dm ( customer datum management ) , stock , collection and many other sub process understanding on order to cash 1 ) contract management this team help in sign up legal agreement with the customer post the customer agree to buy product from oracle . 2 ) customer agreement this team help in create customer detail and record and report / non revenue order 3 ) oa ( order administration ) this book the order of the customer 4 ) ar this team raise the invoice and send they to the customer 5 ) collection this team follow - up on the invoice and get the payment from the customer please find a brief description about the team : dm team process summary as below : the deal management service ( dm ) team be responsible configuring product with appropriate pricing & discount and create contract document for customer who be buy oracle product . the team need to liaise with internal function like sale , product release group , local deal management team and global process owner , to be able to produce the right product pricing and clause in accordance with oracle global approval matrix . an integral aspect for the team be to enable sale to delivery accurate and timely input to the customer with fast turnaround to facilitate revenue velocity . the team also work with downstream booking process to seamlessly handhold the entry of such record into oracle system post the customer agree to buy our product . this team work globally and be responsible for hardware , cloud and software line of business . its fall under the gamut of order management of our captive unit ( gfic - global finance information center ) position : senior / lead analyst job location : bangalore responsibility assemble and draft contract document , support assign oracle line of business , country , or sale organization , follow oracle global contract process and use appropriate tool and system review transactional approval / executive summary to ensure appropriate business approval be secure for any non - standard contract option per the relevant oracle global approval matrix review the partner or customer master agreement to ensure it be valid for the current transaction and meet define oracle standard engage , per pre - define guideline , with sale and other cross - functional / internal team on nonstandard contract term receive and review customer - execute document , and perform a thorough validation . manage sale and customer expectation on time - to - completion for a give transaction request desire skill and experience very good communication skill , both write and verbal ability to work effectively under time critical deadline . ability to effectively manage multiple task and priority , and attention to detail ability to adapt and acquire new skill quickly ability to work in a high pressured , fast move and challenging environment organize and detail orient . would be a plus have : good customer focus skill would be a plus have : prove experience in handle contractual document candidate should have 5 - 10 year of professional experience and possess knowledge of quote or order(q20 ) or order to cash(o2c ) or deal management experience . have opening at different level if interested pls send your resume to poonam.g.gupta@oracle.com with detail like current ctc / expect ctc and notice period thank poonam salary : not disclose by recruiter industry : it - software / software service functional area : other employment type : permanent job , full time'\n",
      " 'security engineer' 'system integration technician'\n",
      " 'clinical research manager' 'lead logistic firm'\n",
      " 'head / vp - public relation / corporate communication'\n",
      " 'llegis group india be a wholly own subsidiary of allegis group , inc . in india , the company specifically focus on deal with technology product and provide high - end engineering design and analysis , it and ite service , vendor management , training and staffing service to fortune 500 client . about allegis group : a us $ 6 billion world leader in staff service to over 4000 customer globally & large technology staff company in the world today . it , telecom , infrastructure and engineering . one of the world large privately hold company . the 6th large staffing company in the world and the 2nd large in the us . one of the top vendor to 99 % of fortune 500 company . employee over 100,000 employee across different part of the world . operation in north america , europe and asia with over 300 office and now in india'\n",
      " '* a us base $ 4.0 billion world leader in staff service to over 6000 customer globally . * world \\'s large \" technology \" staff company in the world today - it , telecom , infrastructure and engineering . * teksystem be a part of the allegis group which be a $ 16 billion us base privately hold firm . one of the world \\'s large privately hold company ( source : forbe ) * the 4th large staffing company in the world and the 2nd large in the us . * one of the top vendor to 90 % of fortune 500 company . * every year we deploy over 80,000 employee across different part of the world . * operation in north america , europe and asia with over 300 office across location . * in india , teksystem currently have 1800 + technical consultant employ at various fortune 500 company across the country . * for the second consecutive year , teksystem be name to fortune magazine \\'s \" 100 good company to work for \" in 2014 . * please visit - www.teksystems.com ; www.allegisgroup.com , for more information .'\n",
      " 'head nurse / nursing superintendent / clinical instructor'\n",
      " 'accessory designer' 'head / vp / gm - technical support'\n",
      " 'head / vp / gm - training & development' 'freelancer'\n",
      " 'email marketing manager' 'treasury operation manager'\n",
      " 'product manager - auto / home loan' 'purchase officer'\n",
      " \"glaxosmithkline be one of the world 's lead pharmaceutical and healthcare company , with statistician and programmer work at uk and we r&d site , and worldwide . in recognition of the develop sophistication and technical requirement of the programming role , the clinical programming department be form as a standalone department within the broad clinical statistic group 18 month ago , cover all phase of clinical drug development and commercialization in a wide range of therapeutic area . in addition to the group 's activity support gsk 's pipeline of drug , key accountability include drive cdisc implementation for the reporting of clinical trial , and identify and implement technology solution to offer further benefit and efficiency for the group 's activity .\"\n",
      " \"aurobindo pharma ltd . be a vertically integrate pharmaceutical company that deliver innovative solution . from discovery to development to commercialization , our growth be aid by cost - effective drug development and substantial manufacturing . leverage india 's globally competitive cost base and talented team of scientist , we have successfully launch a range of affordable product which be accessible across the globe .\"\n",
      " 'teksystem global service ( tgs ) be the software service division of teksystem . teksystem be a $ 4.3 billion organization with over 150 office across the globe . tgs account for $ 600 million and have about 5000 full time employee across the globe of which 1200 be in india . tgs operate through multiple solution center across location like we ( dallas , redmond , bloomington , baltimore , maryland ) , europe ( amsterdam , london ) , canada , manila and india ( bangalore and hyderabad ) . we be an iso 27001 certify organization'\n",
      " 'embed technology engineer'\n",
      " 'dear all , urgent vacancy at fortis hospital mulund , mumbai for interventional paediatric cardiologist . qualification - mbbs , dch(paediatric ) , dnb(paediatric ) , fnb(peadiatric cardiology ) experience - 0 - 4 yrs interested candidate can share their resume on rahul.narkar@fortishealthcare .com or can call we on 02249254263/02249254292 salary : not disclose by recruiter industry : medical / healthcare / hospital functional area : other employment type : full time , permanent'\n",
      " 'icwa' 'civil engineer - traffic'\n",
      " 'ptc inc . be a computer software and service company found in 1985 and headquarter in boston , massachusetts . the global technology company have over 6,000 employee in 30 country , 1,150 technology partner and over $ 1bn in revenue.[citation need ] the company begin initially develop parametric , associative feature - base , solid computer - aid design ( cad ) modeling software in 1988 , include an internet - base product for product lifecycle management ( plm ) in 1998 . ptc product and service now include internet of thing ( iot ) and augment reality ( ar ) among other .'\n",
      " 'social study teacher'\n",
      " \"teksystem - an allegis group company , be the world 's lead technology staffing & service organization . we service over 4000 client globally , of which 91 % be fortune 100 , 82 % be fortune 500 company . at the moment , I be work towards sap c4c consultant position for one of our client - a global leader in manufacture engineer product for defence , aero - space , atuomobile , automotive , power transmission etc . , base in bangalore .\"\n",
      " 'assistant editor / editor' 'sr visualiser' 'psychiatrist'\n",
      " 'insurance operation officer'\n",
      " 'cto / head / vp - technology ( telecom / isp )'\n",
      " 'accenture ( nyse : acn ) be a lead global professional service company , provide a broad range of service and solution in strategy , consulting , digital , technology and operation . combine unmatched experience and specialized skill across more than 40 industry and all business function underpin by the world large delivery network- accenture work at the intersection of business and technology to help client improve their performance and create sustainable value for their stakeholder . with approximately 477,000 people serve client in more than 120 country , accenture drive innovation to improve the way the world work and life . important notice we have be alert to the existence of fraudulent message ask job seeker to set up payment to cover various cost associate with establish employment at accenture . no one be ever require to pay for employment at accenture . if you be contact by someone ask for payment , please do not respond , and contact we at india.fc.check@accenture.com immediately .'\n",
      " 'sale head' 'performance management manager' 'neurologist'\n",
      " 'card - operation manager'\n",
      " 'work with organization manufacturing committee on manufacture good practice liaison with the government official in various ministry and network with the industry stakeholder to get the input on manufacturing process work on organization various award i.e. quality , safety and manufacture excellence award feedback to the industry after the award about their good practice , area of improvement etc . handle important aspect of the department conference/ seminar require candidate profile technical ( knowledge , skill , attitude ) the candidate should have the basic understanding of the manufacture operation . he/ she should have good presentation skill , interpersonal skill and should possess good writing & communication skill . generic / managerial the candidate should be self - drive and commit towards the work assign . he/ she should be a good team player . salary : inr 4,50,000 - 8,00,000 pa . industry : ngo / social service / regulator / industry association functional area : other employment type : full time , permanent'\n",
      " 'it / technical editor' 'network planning manager'\n",
      " 'bio - technical research manager' 'carry forward agent ( cfa )'\n",
      " 'hotel seven sea , an extraordinary symbol of chic , opulence and sophistication , provide a signature experience to cherish for a lifetime with its classic european architecture and avant - garde design . start in 1995 , seven sea hospitality own and operate four banquet hall in delhi and have be record an annual growth of 20 - 30 per cent year - on - year . locate 22 km from indira gandhi international airport , 16 km from new delhi railway station and 12 km from central delhi , hotel seven sea be a premier luxury destination and the perfect choice for business and social event . the property will boast of total meeting space of 1,00,000 sq ft area , which can accommodate upto 4000 guest , 3 lavish banquet hall and room in size option from 15000 sq ft to 25000 sq ft 2 two nightclub , a shopping complex of 6000 sq foot , an all - day dining multi cuisine restaurant and a specialty restaurant cum bar . other facility will include a health club , steam , sauna , jacuzzi and swimming pool . the group be also explore the possibility of open another hotel , post the completion of this ambitious project , in gurgaon by 2016 . however , this be still under plan stage . the brand new luxury hotel seven sea have over 100 contemporary design well appoint room . all our room come with luxurious plush bedding , upgrade bath amenity ; flat screen television , spacious work area with high speed internet access ,'\n",
      " 'security manager'\n",
      " 'g - cube be the one of the forward look and grow e - learn organization head quarter in india , with sale and marketing office in california , we and ontario , canada . g - cube be an iso 9001:2000 certify organization and be work towards achieve cmmi level 3 certification . g - cube serve global organization with its good of the breed service and have be award with deloitte technology fast 50 india ã¢â‚¬ \" 2009 award . please visit the following link to know about few of our client : gc-solutions.net/clientlist.asp g - cube offer range of e - learn service both for online as well as classroom base learning delivery . our service include advisory , custom courseware design / development and instructional design . g - cube believe in individual self development through knowledge development . we have a well establish knowledge sharing process through our internal and external blog . to know more please visit : gc-solutions.net/blog'\n",
      " 'look for a assistant engineer service for flowserve sanmar limited ( mechanical seal division ) \\xa0  to be base at chennai job content to carry out trouble shoot of seal / new installation / spare business generation . key responsibility installation of new seal trouble shoot to seal provide technical support to customer by hold presentation for technician / engineer interact with ho service and engineering regard seal problems/ failures/ trouble shoot maintain datum as per iso requirement for service complaint & provide same to ho prepare service report and keep branch sale / ho service inform on site problem provide feed back on fsl seal performance and competitor seal performance experience : diploma mechanical 4 - 8 year of experience in service / maintenance function of pump / seal / rotate equipment from a centrifugal pump manufacturer compressor industry technically sound with good product knowledge salary : not disclose by recruiter industry : industrial product / heavy machinery functional area : other employment type : full time , permanent'\n",
      " 'a renowned name into security service ! ! !' 'orthopaedist'\n",
      " 'role and responsibility \\xa0  role : online brand store ( ecommerce ) location : great noida industry : consumer durable responsibility : incumbent will be responsible for deployment of global online store will be responsible for gtm for online store , their execution , handle digital marketing initative , increase the online brand awareness will be responsible for plan and achieve sale target and do robust marketing for build the online store presence in digital space . manage site performance , demand generation , channel health and manage overall marketing efficiency . will be collaborate with cross functional team for to manage all aspect of ecommerce business include online marketing , website design , web analytic , content strategy , promotional campaign etc . mandatory : experience : 7 - 13 year of experience in manage online and ecommerce business in consumer durable industry . education : any graduate with good communication skill . salary : inr 20,00,000 - 30,00,000 pa . industry : consumer electronic / appliance / durable functional area : other'\n",
      " 'on contract basic catalog at various portal product knowledge of apparel list of new product on all major marketplace essential competency -high proficiency level of excel -customer orient salary : inr 1,75,000 - 2,75,000 pa . industry : internet / ecommerce functional area : other employment type : permanent job , full time'\n",
      " 'head / vp / gm - commercial'\n",
      " 'head / vp / gm - private equity / hedge fund / vc'\n",
      " '- teksystem india be a wholly own subsidiary of allegis group , inc , a $ 11 billion enterprise - teksystem provide global it professional recruitment service to help organization achieve their it and business goal . - we provide service across application , end user support , it leadership , network infrastructure , project & pmo - $ 3.8 billion world leader in technology staffing service - 6,000 + client , with 98 % client retention - over 100 location throughout north america , europe and asia - 5,000 full time employee - over 80,000 it consultant deploy worldwide annually - # 1 us provider of it recruitment - good of staff client satisfaction and candidate satisfaction by inavero - forbes america \\'s good employer list - we have be list in fortune magazine under \" 100 good company to work for \" for 5 consecutive year - please visit - www.teksystems.com ; www.allegisgroup.com , for more information on we . - in india , the company specifically focus on deal with technology product and provide high - end engineering design and analysis , it and ite service , vendor management , training and staffing service to fortune 500 client . - the 6th large staffing company in the world and the 2nd large in the us . - one of the top vendor to 99 % of fortune 500 company . - employ over 100,000 employee across different part of the world operation in north america , europe and asia with over 300 office and now in india'\n",
      " 'science teacher' 'cio'\n",
      " '\" deep understanding of transfer pricing as a concept and provision of tp law ( definition of ae , method etc . ) in india . basic understanding of other direct tax concept and other allied law . good communication skill oral as well as write know business english be very important . understanding of the client business and the issue involve . personal ownership for own work and performance ability to understand the issue and discuss the same with senior colleague in a proper way to keep update with case law and assist senior colleague in application of the ratio of the judgement in the assignment handle personal ownership ( responsibility and accountability ) for the work and performance ability to learn new skill , share knowledge and experience to support senior colleague in the assignment in a fruitful manner to ensure that the risk and other policy be be adhere to \" experience be tp be mandatory . interested candidate can share their resume on reetisingh@gmail.com or can call at 8355949358 . salary : inr 6,00,000 - 9,00,000 pa . industry : other functional area : other employment type : permanent job , full time'\n",
      " 'laurus labs ltd be a fast grow pharmaceutical company . about company : https://www.lauruslabs.com/'\n",
      " 'chemistry teacher' 'bartender' 'dietician / nutritionist'\n",
      " 'medium buying executive / manager' 'health club assistant./manager'\n",
      " 'senior sub editor / senior reporter' 'branch marketing manager'\n",
      " 'jewellery designer' 'security supervisor' 'chancellor'\n",
      " 'gd research center pvt . limit ( gdrc ) be a subsidiary of globaldata ltd , uk . globaldata be the premier source of actionable insight into the energy and healthcare industry . with the combine expertise of more than 1,000 researcher , market analyst and consultant across 10 + country , the company provide high - quality , accurate and transparent industry insight that help client achieve growth and increase business value . globaldata&rsquo;s success as a lead research and consulting firm be also highlight by the fact that it be frequently reference in some of the world&rsquo;s lead publication , such as the wall street journal , the washington post , forbe , the financial time , bloomberg and reuters . in addition to this , it have also be name one of the uk&rsquo;s most inspiring company , after be list in the london stock exchange group&rsquo;s recent report , & ldquo;1000 company to inspire britain&rdquo ; . gdrc itself have an experienced team of more than 800 researcher , analyst and software professional base in hyderabad , india , with diverse industry and educational background . gdrc hire its employee from educational institute of global repute , enable the company to provide high - quality research and analysis . gdrc&rsquo;s team use robust methodology , include in - depth primary and secondary research technique , proprietary database and input from panel of industry expert , to deliver its lead research and analysis . in addition to this , gdrc have a highly experienced senior management team , consist of lead figure in the business information industry . why not find out more about globaldata and gdrc via the link below : www.globaldata.com www.gdresearchcenter.com'\n",
      " 'special effect technician' '2nd engineer' 'retail marketing manager'\n",
      " 'ensure that patient care instrument use throughout the fortis hospitals ltd . be safe . effectively manage and coordinate activity of the biomedical engineering department to include the evaluation , replacement , service and repair of complex biomedical patient equipment ; administer policy and procedure applicable to efficient operation . to provide necessary support to the doctor / nursing staff / operator in term with equipment usage . direct all aspect of maintenance , and repair of the equipment , as well as ongoing training and education of staff relate to safe medical device use and practice . provide first hand support to the medical equipment during their breakdown and normal maintenance . direct and manage preventive maintenance on medical equipment , through adjustment or replacement of item on a schedule basis to prevent equipment failure . upkeep all equipment to its proper and uninterrupted working performance by plan and schedule preventive maintenance program . ensure the patient safety and result accuracy by measure like periodic calibration , periodic safety check etc . provide on job training and support to the equipment user and operator . coordinate with the agency for spare and service support . establish and implement technical protocol and management function pertain to biomedical equipment . advice administration on matter pertain to equipment purchase , performance , financial provision etc . establish and define departmental goal and objective to meet goal and objective of fortis hospital . plan , implement and evaluate program to meet departmental goal . salary : inr 1,75,000 - 3,00,000 pa . industry : medical / healthcare / hospital functional area : other employment type : full time , permanent'\n",
      " 'new model strcs & launch plan as per sale dept . 3d design professional ( uni - garphics & solid work ) new model bom validation pl sheet preparation and validation new model ckd order confirmation gp ratio control through rci activity cost buster project lead new mold history & tech . datum new mold draw management local part & ckd part management local mold & tool new development plan new model launch as per schedule & quality issue solve plan draw management salary : not disclose by recruiter industry : consumer electronic / appliance / durable functional area : other employment type : permanent job , full time'\n",
      " 'aerial telecom solution pvt . ltd .' 'translator'\n",
      " 'to prepare daily sale mis to prepare referral mis to maintain all sort of datum requirement of the team and ensure reporting of the same on a timely basis adhoc requirement of the unit for datum if any . job location : vashi , navi mumbai thank & regard , team- hr salary : inr 3,00,000 - 3,50,000 pa . industry : medical / healthcare / hospital functional area : other employment type : full time , permanent'\n",
      " 'footwear designer' 'insurance operation manager' 'guest service agent'\n",
      " 'people be at the heart of every successful business initiative . at teksystem , a lead provider of it staff and it service , we understand people . every year we deploy over 80,000 it professional at 6,000 client site across north america , europe and asia . our deep insight into the it labor market enable we to help client achieve their business goal - while optimize their it workforce strategy .'\n",
      " 'consult' 'quality assurance & quality control - manager'\n",
      " 'executive / master chef'\n",
      " 'summary : we be look for a seasoned business / product professional with core expertise in strategic thinking , plan and execute disruptive initiative at a large scale . the person will be responsible for lead the seller portal end to end . the role involve work closely in cross functional set up include the client , business and operation team to plan and execute the product roadmap to drive exceptional growth in core kpis . responsibility : build and evangelize short - term and long - term product vision in close collaboration with the product engineering , business and operation team . drive innovation in the product and build efficiency in the development process with an end objective of improve the customer delight thereby lead to well adoption and retention . build customer insight through primary / secondary research and data analytic . work closely with product marketing team to drive the product agenda amongst the client and the business team . keep a track on the competition landscape and new trend in product / technology for continuous product / business improvement . manage the product lifecycle from concept to phase out of the product(s ) across the entire portfolio include ui / ux , engineering , qa , product communication etc . inspire , motivate , develop and lead a team of technology and product management professional to build and deliver world - class product that make a difference for our customer and foster the ecosystem of good . skill and expertise : mandatory 8 + year manage product development team . experience work closely with internal and external stakeholder . strong analytical skill work with datum to make product decision . demonstrate history of continuous learning and ability to stay current with technology and product trend . experience work in agile or scrum process . exceptional ability to negotiate and influence with cross functional peer / senior . a healthy mix of quantitative aptitude and qualitative perspective in decision making . knowledge of all the relevant product / process management and analytical tool e.g. jira , google analytic etc . desire experience in manage product development team for a large - scale internet business . experience in incubate technology - base product / service education : b.tech / m.tech from tier 1 college mba from tier 1 college span : seller platform perk and benefit \\xa0  good in the industry salary : not disclose by recruiter industry : internet / ecommerce functional area : other'\n",
      " 'role and responsibility \\xa0  walk in interview at fortis hospital mulund , mumbai for patient care service department in front desk/ opd billing . criterion : qualification be must . english speaking be must . interview detail : no interview on 1st may 2019 date : 30 - apr-2019 , 2nd may 2019 - 04th may 2019 time \\xa0  : \\xa0  10 am - 04 pm venue \\xa0  : fortis hospital mulund , mumbai contact person : disha jain interested candidate be request to carry follow document : 2 hard copy of resume . aadhar card last 3 month salary slip original graduation degree certificate interested candidate can directly walk in call we on 09987011279 salary : not disclose by recruiter industry : medical / healthcare / hospital functional area : other'\n",
      " 'display marketing executive' 'manage editor'\n",
      " 'company profile hari darshan sevashram ( p ) ltd hari darshan group be one of the large manufacturer of dhoop , agarbathie , pooja product and home fragrance . the brand have be a household name across india over last many decade . hari darshan offer professional , ethical & secure work environment for it be employee couple with career growth prospect . for more detail about company you can log on to- www.haridarshan.com www.risingsun.in www.inatur.in'\n",
      " 'business content developer' 'card - sale officer / executive'\n",
      " 'from patient - to - payment , â „ \\xa0  nthrive empower health care for every one in every community.â „ \\xa0  we transform financial and operational performance to enable health care organization to thrive . we integrate our knowledge and advisory service across the entire revenue cycle and we be accountable to our client - not payor or provider owner - ensure unbiased and focused health solution that well meet their need .'\n",
      " \"solugenix be an information technology service firm that have a rich history of provide comprehensive technology service and solution for more than four decade . as a pioneer in it service , we have partner with some of the big global corporation across many industry . our history be build on a foundation of partnership with global brand like mcdonald 's , microsoft , cit group , johnson & johnson , herbalife , sony pictures entertainment , and many other . whether it be provide dedicated support centre , staff quality team , or deliver business service solution , client can always count on solugenix .\"\n",
      " 'engage with the senior leadership and middle management of the tax and advisory function in the region . work on e - td return , tax clearance preparation , teq preparation , counselling minute note preparation , tax return , pan application and technical research . ensure transition plan and migration resource be in place , sla be agree and service delivery be maintain during the transition support the development of ramp - up plan and building of profile on basis of service line demand manage and resolve escalation that have impact on critical path of service delivery take regular feedback from client service team on service deliver from icoe review performance of icoe against agree kpis and their compliance to sla and reverse sla at regional leve promote a kpmg centric and partnership approach to develop strong relationship with other work group and ensure adherence to group governance monitor the report be send regard icoe performance exception handle and reporting - perform root cause analysis for low cft score or sla non - compliance and take corrective action interested candidate can share their their resume on reetisingh@kpmg.com salary : inr 8,00,000 - 9,00,000 pa . industry : other functional area : other employment type : permanent job , full time'\n",
      " 'regional marketing manager' 'fund manager - debt'\n",
      " 'role and responsibility \\xa0  selenium automation resources.6.selenium with strong java.good communication skill with good attitude and aptitude.1.very good understanding and hand on automation experience . must design and implement robust scalable and high quality test automation suites2.write execute and debug automate test case troubleshoot and debug complex system . must have excellent problem solve skills.3.experience in communicate with business team other development team and management to collect requirement describe software product feature and technical design salary : not disclose by recruiter industry : internet / ecommerce functional area : other'\n",
      " 'hepatologist' 'head teacher / head mistress / head master' 'bar manager'\n",
      " 'about aston carter : * aston carter be a wholly own subsidiary of allegis group which be $ 12.5billion global staffing and recruiting company . * aston carter be acquire by allegis in the year 2011 and expand to apac include india in 2017 . * aston carter focus on recruit business professional across various discipline like accounting and finance , sale , operation , audit , risk and compliance , and also bank and financial service * we work with many fortune 500 customer across the globe and currently work with 20 + global client in india which be predominantly in banking and financial service sector to name a few , visa , morgan stanley , jpmc , fidelity , wells fargo , myntra etc * we have 2000 candidate work out of different client globally and over 100 + in india . * we have our presence in 90 + location globally and in india we be in bangalore , mumbai , pune , chennai as well as hyderabad'\n",
      " '. review protocol sap & rap preparation and implementation sample size calculation provide statistical consultation prepare and review randomization list prepare and reviewing of table , list and graph , as applicable prepare and reviewing of statistical report , as applicable provide support for blind and unblinde documentation prepare and review standard operating procedure train / guide / mentor associate biostatistician and junior programmer . job allocation & distribution to associate biostatistician and junior programmer and evaluation of the progress of the project face client to answer statistical query any other responsibility assign by the organization from time to time salary : not disclose by recruiter industry : pharma / biotech / clinical research functional area : other employment type : full time , permanent'\n",
      " 'fashion editor' 'claim executive'\n",
      " 'karvy stock broke limited karvy , be a premier integrate financial service provider , and rank among the top five in the country in all its business segment , service over 16 million individual investor in various capacity , and provide investor service to over 300 corporate , comprise the who be who of corporate india . karvy cover the entire spectrum of financial service such as stock broking , depository participant , distribution of financial product - mutual fund , bond , fix deposit , equity , insurance broking , commodity broking , personal finance advisory service , merchant banking & amp ; corporate finance , placement of equity , ipos , among other . karvy have a professional management team and rank among the good in technology , operation and research of various industrial segment'\n",
      " 'role and responsibility \\xa0  functional responsibility he / she will be a key member of the medium center of excellence ( mcoe ) team , responsible for carry out development activity , execute analysis & support various mcoe project . work on poc ( proof of concept ) , ad - hoc delivery , crack code for datum table , schemas , and structure in panel datum warehouse . role involve work under dynamic , challenging condition demand multi - tasking . also involve work with multiple point of contact and stakeholder , other analyst on the team and guide they with the usage of right kind of technique / tool / process , as require . manage day - to - day delivery independently and in collaboration with client on a variety of project by obtain project specification , require clarification , and eventually present result / finding to the client . role require proficiency in big datum handling tool such as hadoop / hive , r programming knowledge , julia role demand proficiency in microsoft excel and powerpoint to report finding and actionable insight obtain through study . ability to think critically to address and solve client business question . be creative in identify new technique and process to streamline and increase efficiency and effectiveness of current work - stream be a plus . strong project management skill and high level of attention to detail . organizational information security responsibility follow the organization security policy and procedure , maintain the clear desk and clear screen policy and other physical security procedure , follow the password , access control procedure , back up pc datum report security incident . professional experience experience in development , experience in develop statistical methodology . programming language : advanced to expert proficiency in hadoop / hive , r , julia , hive advanced proficiency in statistical methodology and ability to independently develop statistical method to isolate impact due to stimulus ( such as advertising impact on purchase behavior ) in experimental design . proficiency with generalized linear model , bayesian algorithm , and isolate impact due to covariate compute variance on sample and develop methodology to compute goodness of fit for glm model familiarity with longitudinal and panel datum analysis and its application in marketing ; nice to have exposure to / some familiarity with time series analysis , design of experiment , sample theory demonstrate strong interpersonal , communication and presentation skill ; trust ; educate on analytic method , shape think and influence the decision should have medium to high proficiency in ms - office , specifically excel and powerpoint should have basic knowledge of market research & any specific knowledge on retail and fmcg / cpg industry will be an add advantage . client management and value - effectively manage client project ; build and maintain support and trust ; act as a trust advisor and delivery partner behavioral & attitudinal skill client management - client focus communication skill - effective write and verbal communication think skill - analytical thinking - critical thinking drive for result / manage self and team - decision making - planning & organizing - problem sensitivity innovation and continuous improvement - active learning - fluency of idea collaboration and teamwork - interpersonal relationship & networking - team play change leadership - change driver ownership - responsibility & initiative - negotiation skill salary : not disclose by recruiter industry : it - software / software service functional area : other'\n",
      " 'must have hand on experience in make various kind of coffee experience with coffee day , starbuck , and other prominent caf prefer . experience 6 month and above . salary : inr 1,50,000 - 2,00,000 pa . industry : medium / entertainment / internet functional area : other employment type : permanent job , full time'\n",
      " 'practical training / internship' 'av editor'\n",
      " 'a lead food & hospitality industry' 'pastry chef'\n",
      " 'sale / business development manager - derivative' 'biology teacher'\n",
      " 'sap grc access control : at least 1 end to end implementation of grc ac 10.0/10.1/12.0 or 3 - 4 year of support experience proficient in ecc / s4hana role management and user administration good understanding of sap security complete understanding of spro configuration for ac proficient in risk analysis and remediation . in depth understanding of sod and the ruleset generation and maintenance along with mitigation control good command on msmp configuration , hr trigger in - depth understanding of emergency access management and business role management work knowledge of fiori/ hana studio be desirable . sap grc process control : at least 1 end to end implementation of grc pc 10.0/10.1/12.0 or 3 - 4 year of support experience proficient in continuous control monitoring along with good command on various business rule sub scenario and brf+ experience in hana base ccm complete understanding of spro configuration for pc good understanding of risk and control in sap ecc / s4hana proficient in various control assessment and workflow configuration in - depth understanding of process control role and responsibility . salary : not disclose by recruiter industry : accounting / finance functional area : other'\n",
      " 'chemical research manager' 'the glove'\n",
      " 'chemical research associate / scientist' 'visit faculty / guest faculty'\n",
      " 'head / vp / gm - broking' 'infrastructure & technology manager'\n",
      " 'technical documentor'\n",
      " \"act ( atria convergence technologies ltd . ) be bear out of a vision to become the most admire in - the - home entertainment , education , today , we be close than ever to realise it . base in bangalore , we serve a number of city and town in karnataka , andhra pradesh , telangana , tamil nadu and delhi . we be one of the country 's most renowned cable and broadband company , bring state - of the art service to nearly 2 million happy home : fibernet ( internet over fiber optic ) digital tv hdtv\"\n",
      " 'radiologic technologist'\n",
      " 'provide datum analysis and report on performance of apparel brand and unit monthly mis docket for the top management and corporate office . coordinate the p & b process for t & a quarterly deck for t & a business along with provide other adhoc analysis & report as require . financial reporting - financial planning retail expansion and operational review- sale marketing and sellex analysis pricing and inventory & other require candidate profile master degree salary : not disclose by recruiter industry : retail / wholesale functional area : other employment type : full time , permanent'\n",
      " 'switch / router engineer' 'transport executive'\n",
      " 'currently we be have an opportunity with one of the lead bank , for the role into inbound customer executive for credit card . location- delhi ncr experience- 2 to 5 year education- any graduate salary : inr 2,25,000 - 5,00,000 pa . industry : banking / financial service / broke functional area : other'\n",
      " 'process engineer - plant design'\n",
      " 'opd management and consultant coordination . registration and billing telephone operation . appointment and scheduling . cancel / reschedule appointment whenever necessary by call and inform the concerned patient information delivery supervise the reception- by handle query , enquiry and lab report update of contact detail of consultants/ star dial and extension number prepare indent of consultant chamber . compile fos datum and send it to the concerned opd executive who be in charge of consolidate datum issue key & locker of the drawer . supervise and checking of daily mis before send it . service recovery in that area . training of the his module in front office with the power user . maintain attendance , leave & delay in absenteeism of the consultant . give on - the - job training . room readiness . inventory of the stationery . inter departmental co - ordination ( ward , h / k , maintenance , store , admin , it ) handle patient grievance ( regard wait period for the drs and non availability of appointment ) salary : inr 90,000 - 2,25,000 pa . industry : medical / healthcare / hospital functional area : other employment type : permanent job , full time'\n",
      " 'designation : collection manager / officer - cd / tw . location : ahmedabad / surat / rajkot job requirement : candidate should have minimum 1 to 2 year of experience into collection . should have manage collection agency . ready to work in field for collection salary : inr 2,00,000 - 5,00,000 pa . industry : banking / financial service / broke functional area : other employment type : full time , permanent'\n",
      " 'job detail : - = = = = = = = = = = = = = job role - sale executive no . of open position & location - \\xa0  topsia - 2 , chinarpark / rajarhat - 4 salary - 8,500 ( in hand ) + pf + esic + performance incentive work - product promotion and sale contact - saddam - 9051097786 salary : inr 1,00,000 - 1,75,000 pa . industry : other functional area : other'\n",
      " 'head / vp / gm - corporate advisory'\n",
      " 'head / vp / gm - public relation / corporate communication'\n",
      " 'allegis group india' 'forex manager'\n",
      " 'we \\xa0  have urgent requirement for okta experience-7 to 17 year shift time- 6:00pm to 3:00am jd different application integration with okta troubleshoot the application login issue handle ticket raise by the end user relate to okta sign on / application issue take care of the overall end - user experience install & configure the okta ad agent ( if require ) import people from active directory setup self - service in okta gather require information from service provider for application integration work with okta support for troubleshooting prepare kb relate to okta provide access for various application to enable they for single sign on set up multi factor authentication addition of user to group creation of user & group in okta base on the requirement interact with client and end user for the enhancement open case with okta support for the resolution of any bug identify engage with vendor to investigate / resolve technical issue provide require information and report to the management to review the exist process salary : not disclose by recruiter industry : it - software / software service functional area : other employment type : permanent job , full time'\n",
      " \"allegis group india be a wholly own subsidiary of allegis group , inc . in india , the company specifically focus on deal with technology product and provide high - end engineering design and analysis , it and ite service , vendor management , training and staffing service to fortune 500 client . about allegis group : a us $ 6billion world leader in staff service to over 4000 customer globally world 's large technology staff company in the world today it , telecom , infrastructure and engineering one of the world 's large privately hold company ( source : forbe ) the 6th large staffing company in the world and the 2nd large in the us one of the top vendor to 99 % of fortune 500 company employ over 100,000 employee across different part of the world operation in north america , europe and asia with over 300 office and now in india\"\n",
      " 'source manager' 'landscape architect' 'fashion content developer'\n",
      " 'depository service - executive / manager' 'merger & acquisition manager'\n",
      " 'axaxl.com'\n",
      " 'about teksystem :* teksystem provide global it professional recruitment service to help organization achieve their it and business goals.*we provide service across application , end user support , it leadership , network infrastructure , project & pmo*$3.8 billion world leader in technology staff services*wholly own subsidiary of allegis group , a $ 11 billion enterprise*6,000 + client , with 98 % client retention*over 100 location throughout north america , europe and asia*5,000 full time employees*over 80,000 it consultant deploy worldwide annually*#1 us provider of it recruitment*b of staff client satisfaction and candidate satisfaction by inavero * forbes america \\'s good employer list * we have be list in fortune magazine under \" 100 good company to work for \" for 5 consecutive years*please visit - www.teksystems.com ; www.allegisgroup.com , for more information on we .'\n",
      " 'production executive'\n",
      " \"dear candidate \\xa0  greeting from indiamart company profile : indiamart be india 's large online b2b marketplace , connect buyer with supplier . with 60 % market share of the online b2b classify space in india , the channel focus on provide a platform to small & medium enterprise ( sme ) , large enterprise as well as individual . found in 1999 , the company 's mission be to make do business easy . \\xa0 \\xa0  indiamart offer a platform to 5.98 crore buyer to search from over 5.01 crore product and get connect with over 47 lakh reliable and competitive supplier . \\xa0  indiamart have be the proud recipient of the red herring 100 asia award in 2008 , as one of the top promise asian company drive the future of technology . lead by innovation and back by experience , the company introduce a pioneer service in 2012 call buy lead . the commitment to bring affordable and low - cost solution to the sme lay the foundation for this low - cost solution , which be bestow with the manthan award in 2013 under the e - business and financial inclusion category . indiamart have over 2500 employee locate across 76 office in the country . we look forward to have you as a part of the team . job description : \\xa0  handle and integrate large volume of datum from various source . business performance analysis and reporting : \\xa0  analyze the kpis on a regular basis to monitor the health of business and related reporting to the top management prepare quarterly & monthly deck and get the same review to the top management . annual / monthly plan with business strategy to be a core member in formulating and drive the freeze plan for all business vertical . variance analysis : \\xa0  analyze the variance against past performance and plan and identify the reason for deviation . respond to management query on various key business issue and drive the change require in business process . keep a close eye on all key business metric and do a root cause analysis in case of any significant spike / dip in any kbm develop and communicate key metric and business trend to various team help in planning ( daily / weekly / monthly / quarterly / annual ) by provide datum drive insight mining datum , perform analysis , come up with actionable insight , create dashboard and presentation necessary skill : analytical thinking ; comfortable handling number and datum . self - motivate ability to close action item without much supervision . ability to communicate well with different stakeholder . good command on excel + + basic knowledge require for vba / sql & bi tool . salary : inr 5,00,000 - 6,00,000 pa . industry : internet / ecommerce functional area : other employment type : permanent job , full time\"\n",
      " 'debt instrument dealer'\n",
      " 'department : solid oral - manufacture section : granulation / compression / coating designation : officer / senior officer / executive experience : 3 to 8 year qualification : b.phrmacy / m.pharmacy job location : intas pharmaceutical limit - sez unit ( ahmedabad ) job responsibility : should be well verse with tablet compression , granulation , coating & dispense activity . should have adequate knowledge on requirement of mhra , usfda and other regulatory body . should be able to handle manpower efficiently . should be able to do documentation work independently . knowledge of sap will be an add advantage . salary : not disclose by recruiter industry : pharma / biotech / clinical research functional area : other employment type : permanent job , full time'\n",
      " '4th engineer' 'ent specialist'\n",
      " 'manufacturer and exporter of micro nutrients , organic manure , bio - fertilizer , bio - activator , bio - pesticide & pesticide , multiplex be the lead household brand name for farmer across pan india . with over 40 year of experience in the field of agronomic , we be the pioneer of green farming and provide complete solution for agriculture and horticulture to increase yield by quantity & quality .'\n",
      " 'feature content developer'\n",
      " 'fouren be a technology partner company headquarter in bangalore , india . fouren be drive by strong passion and an indomitable spirit to deliver value in the field of it outsourcing and technology service'\n",
      " '1.im certification/ re certification & surveillance audits plan and arrange through third party certification body . 2.internal audit planning and execution ( quarterly ) . 3.field call rate ( fcr ) reduction by temporary & permanent action . 4.external failure cost reduction by daily technical communication with all india service person for urgent spare support in order to avoid cmra & ddir . 5.service tsp & fqr issue close on time . 6.service technician training planning & execution as per ho requirement . 7.service bulletin preparation & share with all india service team . 8.model wise service bom preparation with service bill rate . 9.service spare fill ratio monitoring & achieve as per define target . 10.export ckd & skd spares kit pack with zero discrepancy & pack completion as per stuffing plan . 11.model wise service bom preparation with service bill rate . 12.service introduction of the newly launch model / product for service spare part system . salary : not disclose by recruiter industry : consumer electronic / appliance / durable functional area : other employment type : permanent job , full time'\n",
      " \"job description po operation analyst:- responsible for creation of purchase request and work with the source - to - settle / procurement team and business team to get purchase order create . also responsible for get invoice pay on time . . follow the po responsibility matrix and workflow . review sow / contracts/ engagement letter and ensure that these document adhere to oracle 's standard template , term and condition , and policy . collaborate with tax and treasury business team , procurement team and with external service provider to resolve issue relate to contract / sow / pos / invoice . adherence to standard process and timeline ( sla ) to support the service delivery . ensure timely response to inquiry from the tax and treasury business team and other operational team member . manage the right balance of communication with the business team member and management team ( email , call , meeting ) . act on the weekly aging pr / hold report by coordinate with s2s team , internal business team and supplier to ensure timely solution to pende purchase request , purchase order , invoice on hold and contract and sow proactively reach out to the reporting manager for any additional support to resolve key issue . identify process improvement opportunity and be the change agent to bring in operation excellence . conduct meeting with key service provider and ensure a smooth operation of end - to - end source to settle cycle with minimum escalation . require skill and experience : experience of 6 8 year in e2e procurement function ( pr / po / invoice ) with relevant experience in the contract review process . knowledge of erp procurement and payable(ap ) process as a user be an essential pre - requisite . demonstrate excellent customer support skill . demonstrate experience in ms office ( word , ppt , excel spreadsheet(able to do pivot , formula ) ) , erp procurement and web - base application . strong verbal and write communication skill . good negotiation and collaboration skill to resolve inquiry and issue location : bangalore , krishna magnum building , survey no.165/3 and 165/4 , billekahalli village , begur hobli salary : inr 9,00,000 pa . 885804 industry : it - software / software service functional area : other employment type : permanent job , full time\"]\n"
     ]
    }
   ],
   "source": [
    "print(data['Job Title'].unique())\n"
   ]
  },
  {
   "cell_type": "code",
   "execution_count": 54,
   "metadata": {},
   "outputs": [
    {
     "name": "stdout",
     "output_type": "stream",
     "text": [
      "                Job Title   Company                    Job Salary   \n",
      "7243   software developer   Infosys      8,00,000 - 12,00,000 PA.  \\\n",
      "12089  software developer      Cred   Not Disclosed by Recruiter    \n",
      "13774  software developer  Razorpay   Not Disclosed by Recruiter    \n",
      "443    software developer   Infosys   Not Disclosed by Recruiter    \n",
      "21174  software developer   Infosys       3,00,000 - 8,00,000 PA.   \n",
      "\n",
      "                           Key Skills  \n",
      "7243                    oracle fusion  \n",
      "12089                   oracle fusion  \n",
      "13774                      oracle adf  \n",
      "443                       oracle sale  \n",
      "21174  forms| oracle d2k| oracle| d2k  \n"
     ]
    }
   ],
   "source": [
    "print(recommendations)"
   ]
  },
  {
   "cell_type": "code",
   "execution_count": null,
   "metadata": {},
   "outputs": [],
   "source": []
  }
 ],
 "metadata": {
  "kernelspec": {
   "display_name": "Python 3",
   "language": "python",
   "name": "python3"
  },
  "language_info": {
   "codemirror_mode": {
    "name": "ipython",
    "version": 3
   },
   "file_extension": ".py",
   "mimetype": "text/x-python",
   "name": "python",
   "nbconvert_exporter": "python",
   "pygments_lexer": "ipython3",
   "version": "3.11.3"
  }
 },
 "nbformat": 4,
 "nbformat_minor": 2
}
